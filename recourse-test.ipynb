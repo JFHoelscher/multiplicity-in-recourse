{
 "cells": [
  {
   "cell_type": "markdown",
   "metadata": {},
   "source": [
    "Test for using actionable-recourse, provided on https://github.com/ustunb/actionable-recourse\n",
    "\n",
    "In order to compare recourse for several similar classifiers, we use cross validation to fit several logistic regression models (Is this the right way?). In the next step, we want to check whether the flipsets generated for one of them apply also for the other classifiers."
   ]
  },
  {
   "cell_type": "code",
   "execution_count": 26,
   "metadata": {},
   "outputs": [],
   "source": [
    "import copy\n",
    "from tqdm.notebook import tqdm\n",
    "import pandas as pd\n",
    "import numpy as np\n",
    "import matplotlib.pyplot as plt\n",
    "from sklearn.linear_model import LogisticRegression\n",
    "from sklearn.model_selection import cross_validate\n",
    "from sklearn.model_selection import StratifiedKFold as CVGenerator\n",
    "from sklearn.model_selection import GridSearchCV\n",
    "import recourse as rs\n",
    "from recourse.builder import ActionSet #FIX\n",
    "from recourse.flipset import Flipset #FIX\n",
    "from recourse.auditor import RecourseAuditor #FIX"
   ]
  },
  {
   "cell_type": "markdown",
   "metadata": {},
   "source": [
    "import data"
   ]
  },
  {
   "cell_type": "code",
   "execution_count": 4,
   "metadata": {},
   "outputs": [
    {
     "name": "stdout",
     "output_type": "stream",
     "text": [
      "30000\n"
     ]
    }
   ],
   "source": [
    "url = 'https://raw.githubusercontent.com/ustunb/actionable-recourse/master/examples/paper/data/credit_processed.csv'\n",
    "df = pd.read_csv(url, skipinitialspace=True)\n",
    "n_data = len(df) # 30.000\n",
    "#cut_factor = 0.1 # 1 -> full dataset considered (but randomly shuffled)\n",
    "#idxs = np.random.choice(n_data, int((1-cut_factor)*n_data), replace = False)\n",
    "# randomly choose cut_factor * n samples to fasten analysis\n",
    "#df = df.drop(idxs)\n",
    "y, X = df.iloc[:, 0], df.iloc[:, 1:]\n",
    "print(len(df))"
   ]
  },
  {
   "cell_type": "markdown",
   "metadata": {},
   "source": [
    "NEW: Use Cross validation to train several different classifiers (takes some time!)"
   ]
  },
  {
   "cell_type": "code",
   "execution_count": 5,
   "metadata": {},
   "outputs": [],
   "source": [
    "alter_C = True\n",
    "n_splits = 20\n",
    "if not alter_C:\n",
    "    clf = LogisticRegression(max_iter=10000)\n",
    "    cv = cross_validate(clf, X, y, cv=n_splits, return_estimator=True)\n",
    "    cv_scores = cv['test_score']\n",
    "    classifiers = np.array(cv['estimator'])"
   ]
  },
  {
   "cell_type": "markdown",
   "metadata": {},
   "source": [
    "Alternative: Use GridSearchCV on parameter C (takes some time!)"
   ]
  },
  {
   "cell_type": "code",
   "execution_count": 6,
   "metadata": {},
   "outputs": [
    {
     "name": "stdout",
     "output_type": "stream",
     "text": [
      "Fitting 10 folds for each of 20 candidates, totalling 200 fits\n"
     ]
    },
    {
     "name": "stderr",
     "output_type": "stream",
     "text": [
      "[Parallel(n_jobs=-1)]: Using backend LokyBackend with 4 concurrent workers.\n",
      "[Parallel(n_jobs=-1)]: Done  42 tasks      | elapsed:  1.9min\n",
      "[Parallel(n_jobs=-1)]: Done 192 tasks      | elapsed:  7.6min\n",
      "[Parallel(n_jobs=-1)]: Done 200 out of 200 | elapsed:  7.8min finished\n"
     ]
    }
   ],
   "source": [
    "if alter_C:\n",
    "    cv_generator = CVGenerator(n_splits = 10)\n",
    "    clf = LogisticRegression(max_iter=10000, solver='lbfgs')\n",
    "\n",
    "    # this code is for general purpose train/test evaluation using GridSearchCV\n",
    "    gridsearch = GridSearchCV(\n",
    "        clf, \n",
    "        param_grid={'C':np.logspace(-4, 3, num=n_splits)},\n",
    "        scoring='accuracy',\n",
    "        cv=cv_generator,\n",
    "        verbose=1,\n",
    "        n_jobs=-1\n",
    "    )\n",
    "\n",
    "    gridsearch.fit(X,y)\n",
    "    grid_search_df = pd.DataFrame(gridsearch.cv_results_)"
   ]
  },
  {
   "cell_type": "markdown",
   "metadata": {},
   "source": [
    "**TODO:** This (desirable(?)) implementation of classifiers_C is incompatible with the use for the tables below. Fix that and test if it actualy works this way!"
   ]
  },
  {
   "cell_type": "code",
   "execution_count": 40,
   "metadata": {},
   "outputs": [
    {
     "data": {
      "application/vnd.jupyter.widget-view+json": {
       "model_id": "6caac473102e4a218e37a714f02984a0",
       "version_major": 2,
       "version_minor": 0
      },
      "text/plain": [
       "HBox(children=(FloatProgress(value=0.0, max=20.0), HTML(value='')))"
      ]
     },
     "metadata": {},
     "output_type": "display_data"
    },
    {
     "name": "stdout",
     "output_type": "stream",
     "text": [
      "\n"
     ]
    }
   ],
   "source": [
    "if alter_C:\n",
    "    # cache a model for each parameter combination, trained on all data\n",
    "    classifiers = []\n",
    "    classifier_Cs = []\n",
    "    for idx, p in tqdm(list(grid_search_df.params.iteritems())):\n",
    "        model = copy.deepcopy(clf.set_params(**p)).fit(X,y)\n",
    "        classifiers.append(model)\n",
    "        classifier_Cs.append(p['C'])\n",
    "    cv_scores = grid_search_df['mean_test_score']\n",
    "    classifiers = np.array(classifiers)\n",
    "    # Is it inconsistent to consider score before fitting the whole train set? \n",
    "    # But otherwise, it would violate train-test splitting\n",
    "    # CV + fit is a bit of an overkill here?"
   ]
  },
  {
   "cell_type": "markdown",
   "metadata": {},
   "source": [
    "NEW: Select those classifiers that achieve performance within certain tolerance"
   ]
  },
  {
   "cell_type": "code",
   "execution_count": 8,
   "metadata": {},
   "outputs": [
    {
     "name": "stdout",
     "output_type": "stream",
     "text": [
      "0.8060666666666666\n",
      "0.0009324557277482572\n",
      "10\n"
     ]
    }
   ],
   "source": [
    "#X_test = X[:3]\n",
    "#for i, est in enumerate(scores['estimator']):\n",
    "#    print(scores['test_score'][i], est.predict(X_test))\n",
    "tolerance = 1*np.std(cv_scores)\n",
    "good_classifiers = classifiers[cv_scores >= np.max(cv_scores) - tolerance]\n",
    "\n",
    "print(np.max(cv_scores))\n",
    "print(cv_scores.std())\n",
    "print(len(good_classifiers))"
   ]
  },
  {
   "cell_type": "markdown",
   "metadata": {},
   "source": [
    "get predictions"
   ]
  },
  {
   "cell_type": "code",
   "execution_count": 9,
   "metadata": {},
   "outputs": [],
   "source": [
    "yhat = [clf.predict(X) for clf in good_classifiers]\n",
    "yhat_ = np.array(yhat, dtype=int)"
   ]
  },
  {
   "cell_type": "markdown",
   "metadata": {},
   "source": [
    "NEW: Overview table for the classifiers"
   ]
  },
  {
   "cell_type": "code",
   "execution_count": 10,
   "metadata": {},
   "outputs": [
    {
     "name": "stdout",
     "output_type": "stream",
     "text": [
      "\\begin{tabular}{lrllr}\n",
      "\\toprule\n",
      "{} &         C &               coeffients &      predictions &  accuracy \\\\\n",
      "\\midrule\n",
      "0 &  0.001274 &  [[-0.002, 0.096, 0.03]] &  [1, 1, 1, 1, 1] &  0.805933 \\\\\n",
      "1 &  0.002976 &  [[0.242, 0.425, 0.143]] &  [1, 1, 1, 0, 1] &  0.806067 \\\\\n",
      "2 &  0.206914 &   [[0.32, 0.461, 0.159]] &  [0, 0, 1, 0, 0] &  0.805533 \\\\\n",
      "3 &  0.483293 &  [[0.356, 0.566, 0.198]] &  [1, 0, 1, 0, 1] &  0.805367 \\\\\n",
      "4 &  1.128838 &   [[0.37, 0.582, 0.211]] &  [1, 0, 1, 0, 1] &  0.805567 \\\\\n",
      "\\bottomrule\n",
      "\\end{tabular}\n",
      "\n"
     ]
    },
    {
     "data": {
      "text/html": [
       "<div>\n",
       "<style scoped>\n",
       "    .dataframe tbody tr th:only-of-type {\n",
       "        vertical-align: middle;\n",
       "    }\n",
       "\n",
       "    .dataframe tbody tr th {\n",
       "        vertical-align: top;\n",
       "    }\n",
       "\n",
       "    .dataframe thead th {\n",
       "        text-align: right;\n",
       "    }\n",
       "</style>\n",
       "<table border=\"1\" class=\"dataframe\">\n",
       "  <thead>\n",
       "    <tr style=\"text-align: right;\">\n",
       "      <th></th>\n",
       "      <th>C</th>\n",
       "      <th>coeffients</th>\n",
       "      <th>predictions</th>\n",
       "      <th>accuracy</th>\n",
       "    </tr>\n",
       "  </thead>\n",
       "  <tbody>\n",
       "    <tr>\n",
       "      <th>0</th>\n",
       "      <td>0.001274</td>\n",
       "      <td>[[-0.002, 0.096, 0.03]]</td>\n",
       "      <td>[1, 1, 1, 1, 1]</td>\n",
       "      <td>0.805933</td>\n",
       "    </tr>\n",
       "    <tr>\n",
       "      <th>1</th>\n",
       "      <td>0.002976</td>\n",
       "      <td>[[0.242, 0.425, 0.143]]</td>\n",
       "      <td>[1, 1, 1, 0, 1]</td>\n",
       "      <td>0.806067</td>\n",
       "    </tr>\n",
       "    <tr>\n",
       "      <th>2</th>\n",
       "      <td>0.206914</td>\n",
       "      <td>[[0.32, 0.461, 0.159]]</td>\n",
       "      <td>[0, 0, 1, 0, 0]</td>\n",
       "      <td>0.805533</td>\n",
       "    </tr>\n",
       "    <tr>\n",
       "      <th>3</th>\n",
       "      <td>0.483293</td>\n",
       "      <td>[[0.356, 0.566, 0.198]]</td>\n",
       "      <td>[1, 0, 1, 0, 1]</td>\n",
       "      <td>0.805367</td>\n",
       "    </tr>\n",
       "    <tr>\n",
       "      <th>4</th>\n",
       "      <td>1.128838</td>\n",
       "      <td>[[0.37, 0.582, 0.211]]</td>\n",
       "      <td>[1, 0, 1, 0, 1]</td>\n",
       "      <td>0.805567</td>\n",
       "    </tr>\n",
       "    <tr>\n",
       "      <th>5</th>\n",
       "      <td>14.384499</td>\n",
       "      <td>[[0.362, 0.573, 0.206]]</td>\n",
       "      <td>[1, 0, 1, 0, 1]</td>\n",
       "      <td>0.805567</td>\n",
       "    </tr>\n",
       "    <tr>\n",
       "      <th>6</th>\n",
       "      <td>33.598183</td>\n",
       "      <td>[[0.353, 0.57, 0.204]]</td>\n",
       "      <td>[1, 0, 1, 0, 1]</td>\n",
       "      <td>0.805633</td>\n",
       "    </tr>\n",
       "    <tr>\n",
       "      <th>7</th>\n",
       "      <td>78.475997</td>\n",
       "      <td>[[0.28, 0.364, 0.101]]</td>\n",
       "      <td>[0, 0, 0, 0, 0]</td>\n",
       "      <td>0.805400</td>\n",
       "    </tr>\n",
       "    <tr>\n",
       "      <th>8</th>\n",
       "      <td>183.298071</td>\n",
       "      <td>[[0.386, 0.59, 0.232]]</td>\n",
       "      <td>[1, 0, 1, 0, 1]</td>\n",
       "      <td>0.805333</td>\n",
       "    </tr>\n",
       "    <tr>\n",
       "      <th>9</th>\n",
       "      <td>428.133240</td>\n",
       "      <td>[[0.362, 0.58, 0.209]]</td>\n",
       "      <td>[1, 0, 1, 0, 1]</td>\n",
       "      <td>0.805600</td>\n",
       "    </tr>\n",
       "  </tbody>\n",
       "</table>\n",
       "</div>"
      ],
      "text/plain": [
       "            C               coeffients      predictions  accuracy\n",
       "0    0.001274  [[-0.002, 0.096, 0.03]]  [1, 1, 1, 1, 1]  0.805933\n",
       "1    0.002976  [[0.242, 0.425, 0.143]]  [1, 1, 1, 0, 1]  0.806067\n",
       "2    0.206914   [[0.32, 0.461, 0.159]]  [0, 0, 1, 0, 0]  0.805533\n",
       "3    0.483293  [[0.356, 0.566, 0.198]]  [1, 0, 1, 0, 1]  0.805367\n",
       "4    1.128838   [[0.37, 0.582, 0.211]]  [1, 0, 1, 0, 1]  0.805567\n",
       "5   14.384499  [[0.362, 0.573, 0.206]]  [1, 0, 1, 0, 1]  0.805567\n",
       "6   33.598183   [[0.353, 0.57, 0.204]]  [1, 0, 1, 0, 1]  0.805633\n",
       "7   78.475997   [[0.28, 0.364, 0.101]]  [0, 0, 0, 0, 0]  0.805400\n",
       "8  183.298071   [[0.386, 0.59, 0.232]]  [1, 0, 1, 0, 1]  0.805333\n",
       "9  428.133240   [[0.362, 0.58, 0.209]]  [1, 0, 1, 0, 1]  0.805600"
      ]
     },
     "execution_count": 10,
     "metadata": {},
     "output_type": "execute_result"
    }
   ],
   "source": [
    "overview = pd.DataFrame()\n",
    "good_Cs = [] # Collect C values of good classifiers in list; MAYDO: Already care for this when creating classifier_Cs\n",
    "for i in np.flatnonzero(cv_scores >= np.max(cv_scores) - tolerance):\n",
    "    for key, value in list(classifier_Cs[i]): # classifier_Cs is of type dict_items -> not subscriptable\n",
    "        if key == 'C':\n",
    "            good_Cs.append(value)\n",
    "overview['C'] = good_Cs\n",
    "overview['coeffients'] = [np.around(clf.coef_, decimals = 3)[:,:3] for clf in good_classifiers]\n",
    "overview['predictions'] =  [yhat_[j_clf,np.all(np.array([np.any(yhat_, axis=0),\\\n",
    "                                                        np.any(np.logical_not(yhat_), axis = 0)]), axis=0)][:5] for j_clf in range(len(good_classifiers))]\n",
    "overview['accuracy'] = np.array(cv_scores[cv_scores >= np.max(cv_scores) - tolerance])\n",
    "\n",
    "print(overview.iloc[:5].to_latex())\n",
    "overview"
   ]
  },
  {
   "cell_type": "markdown",
   "metadata": {},
   "source": [
    "**TODO:** Make this work!"
   ]
  },
  {
   "cell_type": "code",
   "execution_count": 71,
   "metadata": {},
   "outputs": [
    {
     "name": "stdout",
     "output_type": "stream",
     "text": [
      "0.8050333333333333\n",
      "0.8019333333333334\n",
      "[-3.999999999999999, -3.631578947368421, -3.2631578947368416, -2.894736842105263, -2.526315789473684, -2.1578947368421053, -1.789473684210526, -1.4210526315789471, -1.0526315789473686, -0.6842105263157897, -0.31578947368421056, 0.05263157894736816, 0.42105263157894685, 0.7894736842105257, 1.1578947368421053, 1.5263157894736838, 1.8947368421052626, 2.2631578947368416, 2.6315789473684204, 2.9999999999999996]\n",
      "[-3.999999999999999, -3.631578947368421, -3.2631578947368416, -2.894736842105263, -2.526315789473684, -2.1578947368421053, -1.789473684210526, -1.4210526315789471, -1.0526315789473686, -0.6842105263157897, -0.31578947368421056, 0.05263157894736816, 0.42105263157894685, 0.7894736842105257, 1.1578947368421053, 1.5263157894736838, 1.8947368421052626, 2.2631578947368416, 2.6315789473684204, 2.9999999999999996]\n",
      "[2.30258509e-04 3.19943161e-04 4.44559581e-04 6.17713535e-04\n",
      " 8.58310173e-04 1.19261812e-03 1.65713750e-03 2.30258509e-03\n",
      " 3.19943161e-03 4.44559581e-03 6.17713535e-03 8.58310173e-03\n",
      " 1.19261812e-02 1.65713750e-02 2.30258509e-02 3.19943161e-02\n",
      " 4.44559581e-02 6.17713535e-02 8.58310173e-02 1.19261812e-01\n",
      " 1.65713750e-01 2.30258509e-01 3.19943161e-01 4.44559581e-01\n",
      " 6.17713535e-01 8.58310173e-01 1.19261812e+00 1.65713750e+00\n",
      " 2.30258509e+00 3.19943161e+00 4.44559581e+00 6.17713535e+00\n",
      " 8.58310173e+00 1.19261812e+01 1.65713750e+01 2.30258509e+01\n",
      " 3.19943161e+01 4.44559581e+01 6.17713535e+01 8.58310173e+01\n",
      " 1.19261812e+02 1.65713750e+02 2.30258509e+02 3.19943161e+02\n",
      " 4.44559581e+02 6.17713535e+02            inf            inf\n",
      "            inf            inf]\n"
     ]
    },
    {
     "name": "stderr",
     "output_type": "stream",
     "text": [
      "/home/valerie/.local/lib/python3.6/site-packages/ipykernel_launcher.py:8: RuntimeWarning: overflow encountered in power\n",
      "  \n",
      "posx and posy should be finite values\n",
      "posx and posy should be finite values\n",
      "posx and posy should be finite values\n",
      "posx and posy should be finite values\n",
      "posx and posy should be finite values\n",
      "posx and posy should be finite values\n",
      "posx and posy should be finite values\n",
      "posx and posy should be finite values\n",
      "posx and posy should be finite values\n",
      "posx and posy should be finite values\n",
      "posx and posy should be finite values\n",
      "posx and posy should be finite values\n",
      "posx and posy should be finite values\n",
      "posx and posy should be finite values\n",
      "posx and posy should be finite values\n",
      "posx and posy should be finite values\n",
      "posx and posy should be finite values\n",
      "posx and posy should be finite values\n",
      "posx and posy should be finite values\n",
      "posx and posy should be finite values\n"
     ]
    },
    {
     "data": {
      "image/png": "[encoded data removed]",
      "text/plain": [
       "<Figure size 432x288 with 1 Axes>"
      ]
     },
     "metadata": {},
     "output_type": "display_data"
    }
   ],
   "source": [
    "print(cv_scores.mean())\n",
    "print(cv_scores.min())\n",
    "print([np.log(d['C'])/np.log(10) for d in classifier_Cs])\n",
    "print([np.log(d['C'])/np.log(10) for d in classifier_Cs])\n",
    "#plt.bar([np.log(d['C'])/np.log(10) for d in classifier_Cs], cv_scores.to_numpy())\n",
    "x_bar = [np.log(d['C']) for d in classifier_Cs]\n",
    "x_ticks = np.logspace(-4, 3)\n",
    "x_locs = np.log(10**x_ticks)\n",
    "print(x_locs)\n",
    "plt.bar(x_bar, cv_scores.to_numpy())\n",
    "plt.ylim([cv_scores.min() - 0.001, cv_scores.max()+0.001])\n",
    "plt.xticks(x_locs, x_ticks)\n",
    "plt.xlabel(\"log C\")\n",
    "plt.ylabel(\"Validation accuracy\")\n",
    "plt.savefig(\"barplot_validation.svg\")\n",
    "plt.show()"
   ]
  },
  {
   "cell_type": "code",
   "execution_count": 57,
   "metadata": {},
   "outputs": [
    {
     "name": "stdout",
     "output_type": "stream",
     "text": [
      "[-9.21034037 -8.36201955 -7.51369872 -6.6653779  -5.81705708 -4.96873625\n",
      " -4.12041543 -3.27209461 -2.42377378 -1.57545296 -0.72713213  0.12118869\n",
      "  0.96950951  1.81783034  2.66615116  3.51447198  4.36279281  5.21111363\n",
      "  6.05943446  6.90775528]\n"
     ]
    }
   ],
   "source": [
    "a = np.logspace(-4, 3, num=20)\n",
    "print(np.log(a))"
   ]
  },
  {
   "cell_type": "code",
   "execution_count": 11,
   "metadata": {},
   "outputs": [
    {
     "data": {
      "text/plain": [
       "(10, 1168)"
      ]
     },
     "execution_count": 11,
     "metadata": {},
     "output_type": "execute_result"
    }
   ],
   "source": [
    "yhat_[:,np.all([np.any(yhat_, axis=0),\\\n",
    "                np.any(np.logical_not(yhat_), axis=0)], axis=0)].shape"
   ]
  },
  {
   "cell_type": "code",
   "execution_count": 12,
   "metadata": {},
   "outputs": [
    {
     "name": "stdout",
     "output_type": "stream",
     "text": [
      "[[ True False  True False]\n",
      " [ True  True False False]]\n",
      "[[ True  True  True False]\n",
      " [False  True  True  True]]\n",
      "[[False  True]\n",
      " [ True False]]\n"
     ]
    }
   ],
   "source": [
    "A = np.array([[True, False, True, False],[True, True, False, False]])\n",
    "print(A)\n",
    "B = np.array([np.any(A, axis=0), np.any(np.logical_not(A), axis = 0)])\n",
    "print(B)\n",
    "C = np.all(B, axis=0)\n",
    "print(A[:,C])"
   ]
  },
  {
   "cell_type": "markdown",
   "metadata": {},
   "source": [
    "relative amount of individuals where not all classifiers predict the same"
   ]
  },
  {
   "cell_type": "code",
   "execution_count": 13,
   "metadata": {},
   "outputs": [
    {
     "data": {
      "text/plain": [
       "0.038933333333333334"
      ]
     },
     "execution_count": 13,
     "metadata": {},
     "output_type": "execute_result"
    }
   ],
   "source": [
    "np.mean(np.all([np.any(yhat_, axis=0),\\\n",
    "        np.any(np.logical_not(yhat_), axis=0)], axis=0))"
   ]
  },
  {
   "cell_type": "markdown",
   "metadata": {},
   "source": [
    "customize the set of actions and align"
   ]
  },
  {
   "cell_type": "code",
   "execution_count": 14,
   "metadata": {},
   "outputs": [],
   "source": [
    "action_sets=[]\n",
    "for clf in good_classifiers:\n",
    "    ## matrix of features. ActionSet will learn default bounds and step-size.\n",
    "    A = ActionSet(X)\n",
    "    ## specify immutable variables\n",
    "    A['Married'].mutable = False \n",
    "    ## can only specify properties for multiple variables using a list\n",
    "    A[['Age_lt_25', 'Age_in_25_to_40', 'Age_in_40_to_59', 'Age_geq_60']].mutable = False \n",
    "    A['EducationLevel'].step_direction = 1  ## force conditional immutability.\n",
    "    A['EducationLevel'].step_size = 1  ## set step-size to a custom value.\n",
    "    A['EducationLevel'].step_type = \"absolute\"  ## force conditional immutability.\n",
    "    A['EducationLevel'].bounds = (0, 3)\n",
    "    A['TotalMonthsOverdue'].step_size = 1  ## set step-size to a custom value.\n",
    "    A['TotalMonthsOverdue'].step_type = \"absolute\"  ## discretize on absolute values of feature rather than percentile values\n",
    "    A['TotalMonthsOverdue'].bounds = (0, 100)  ## set bounds to a custom value.\n",
    "    \n",
    "    ## tells `ActionSet` which directions each feature should move in to produce positive change.\n",
    "    A.align(clf)\n",
    "    action_sets.append(A)"
   ]
  },
  {
   "cell_type": "markdown",
   "metadata": {},
   "source": [
    "print some flipset"
   ]
  },
  {
   "cell_type": "code",
   "execution_count": 15,
   "metadata": {},
   "outputs": [],
   "source": [
    "%%capture\n",
    "j_clf = np.random.randint(len(good_classifiers))\n",
    "i = np.random.randint(len(X.iloc[np.flatnonzero(yhat[j_clf] <= 0)]))\n",
    "print(j_clf, i)\n",
    "fs = Flipset(x = X.iloc[np.flatnonzero(yhat[j_clf] <= 0)].to_numpy()[i,:],\\\n",
    "             action_set = action_sets[j_clf], clf = good_classifiers[j_clf])\n",
    "fs.populate(enumeration_type = 'distinct_subsets', total_items = 10)"
   ]
  },
  {
   "cell_type": "code",
   "execution_count": 16,
   "metadata": {},
   "outputs": [
    {
     "data": {
      "text/plain": [
       "'\\\\begin{tabular}{rlccc}\\n\\\\toprule\\n &               \\\\textsc{Feature Subset} &  \\\\textsc{Current Values} &               &  \\\\textsc{Required Values} \\\\\\\\\\n0    &                  \\\\textit{MostRecentBillAmount} &                   8810.0 &  $\\\\longrightarrow$ &              2.461000e+03 \\\\\\\\\\n0    &                    \\\\textit{TotalOverdueCounts} &                      1.0 &  $\\\\longrightarrow$ &              0.000000e+00 \\\\\\\\\\n0    &                    \\\\textit{TotalMonthsOverdue} &                     16.0 &  $\\\\longrightarrow$ &              1.500000e+01 \\\\\\\\\\n1    &          \\\\textit{MaxBillAmountOverLast6Months} &                   8810.0 &  $\\\\longrightarrow$ &              8.892000e+03 \\\\\\\\\\n1    &                  \\\\textit{MostRecentBillAmount} &                   8810.0 &  $\\\\longrightarrow$ &              2.568000e+03 \\\\\\\\\\n1    &                    \\\\textit{TotalOverdueCounts} &                      1.0 &  $\\\\longrightarrow$ &              0.000000e+00 \\\\\\\\\\n1    &                    \\\\textit{TotalMonthsOverdue} &                     16.0 &  $\\\\longrightarrow$ &              1.500000e+01 \\\\\\\\\\n2    &       \\\\textit{MaxPaymentAmountOverLast6Months} &                    150.0 &  $\\\\longrightarrow$ &              1.650000e+02 \\\\\\\\\\n2    &                  \\\\textit{MostRecentBillAmount} &                   8810.0 &  $\\\\longrightarrow$ &              2.461000e+03 \\\\\\\\\\n2    &                    \\\\textit{TotalOverdueCounts} &                      1.0 &  $\\\\longrightarrow$ &              0.000000e+00 \\\\\\\\\\n2    &                    \\\\textit{TotalMonthsOverdue} &                     16.0 &  $\\\\longrightarrow$ &              1.500000e+01 \\\\\\\\\\n3    &                    \\\\textit{TotalMonthsOverdue} &                     16.0 &  $\\\\longrightarrow$ &              1.500000e+01 \\\\\\\\\\n3    &                  \\\\textit{MostRecentBillAmount} &                   8810.0 &  $\\\\longrightarrow$ &              2.568000e+03 \\\\\\\\\\n3    &       \\\\textit{MaxPaymentAmountOverLast6Months} &                    150.0 &  $\\\\longrightarrow$ &              1.650000e+02 \\\\\\\\\\n3    &          \\\\textit{MaxBillAmountOverLast6Months} &                   8810.0 &  $\\\\longrightarrow$ &              8.892000e+03 \\\\\\\\\\n3    &                    \\\\textit{TotalOverdueCounts} &                      1.0 &  $\\\\longrightarrow$ &              0.000000e+00 \\\\\\\\\\n4    &                    \\\\textit{TotalMonthsOverdue} &                     16.0 &  $\\\\longrightarrow$ &              1.500000e+01 \\\\\\\\\\n4    &                    \\\\textit{TotalOverdueCounts} &                      1.0 &  $\\\\longrightarrow$ &              0.000000e+00 \\\\\\\\\\n4    &               \\\\textit{MostRecentPaymentAmount} &                      0.0 &  $\\\\longrightarrow$ &              2.100000e+01 \\\\\\\\\\n4    &                  \\\\textit{MostRecentBillAmount} &                   8810.0 &  $\\\\longrightarrow$ &              2.461000e+03 \\\\\\\\\\n5    &                  \\\\textit{MostRecentBillAmount} &                   8810.0 &  $\\\\longrightarrow$ &              2.568000e+03 \\\\\\\\\\n5    &       \\\\textit{MaxPaymentAmountOverLast6Months} &                    150.0 &  $\\\\longrightarrow$ &              1.650000e+02 \\\\\\\\\\n5    &                    \\\\textit{TotalMonthsOverdue} &                     16.0 &  $\\\\longrightarrow$ &              1.500000e+01 \\\\\\\\\\n5    &               \\\\textit{MostRecentPaymentAmount} &                      0.0 &  $\\\\longrightarrow$ &              2.100000e+01 \\\\\\\\\\n5    &                    \\\\textit{TotalOverdueCounts} &                      1.0 &  $\\\\longrightarrow$ &              0.000000e+00 \\\\\\\\\\n6    &                    \\\\textit{TotalOverdueCounts} &                      1.0 &  $\\\\longrightarrow$ &              0.000000e+00 \\\\\\\\\\n6    &               \\\\textit{MostRecentPaymentAmount} &                      0.0 &  $\\\\longrightarrow$ &              2.100000e+01 \\\\\\\\\\n6    &          \\\\textit{MaxBillAmountOverLast6Months} &                   8810.0 &  $\\\\longrightarrow$ &              8.892000e+03 \\\\\\\\\\n6    &                  \\\\textit{MostRecentBillAmount} &                   8810.0 &  $\\\\longrightarrow$ &              2.568000e+03 \\\\\\\\\\n6    &                    \\\\textit{TotalMonthsOverdue} &                     16.0 &  $\\\\longrightarrow$ &              1.500000e+01 \\\\\\\\\\n7    &  \\\\textit{MonthsWithZeroBalanceOverLast6Months} &                      0.0 &  $\\\\longrightarrow$ &              2.220446e-16 \\\\\\\\\\n7    &       \\\\textit{MaxPaymentAmountOverLast6Months} &                    150.0 &  $\\\\longrightarrow$ &              1.650000e+02 \\\\\\\\\\n7    &                  \\\\textit{MostRecentBillAmount} &                   8810.0 &  $\\\\longrightarrow$ &              2.782000e+03 \\\\\\\\\\n7    &               \\\\textit{MostRecentPaymentAmount} &                      0.0 &  $\\\\longrightarrow$ &              2.100000e+01 \\\\\\\\\\n7    &          \\\\textit{MaxBillAmountOverLast6Months} &                   8810.0 &  $\\\\longrightarrow$ &              9.006000e+03 \\\\\\\\\\n7    &                    \\\\textit{TotalMonthsOverdue} &                     16.0 &  $\\\\longrightarrow$ &              1.500000e+01 \\\\\\\\\\n7    &                    \\\\textit{TotalOverdueCounts} &                      1.0 &  $\\\\longrightarrow$ &              0.000000e+00 \\\\\\\\\\n8    &  \\\\textit{MonthsWithZeroBalanceOverLast6Months} &                      0.0 &  $\\\\longrightarrow$ &              1.000000e+00 \\\\\\\\\\n8    &                    \\\\textit{TotalMonthsOverdue} &                     16.0 &  $\\\\longrightarrow$ &              1.500000e+01 \\\\\\\\\\n8    &                    \\\\textit{TotalOverdueCounts} &                      1.0 &  $\\\\longrightarrow$ &              0.000000e+00 \\\\\\\\\\n8    &                  \\\\textit{MostRecentBillAmount} &                   8810.0 &  $\\\\longrightarrow$ &              3.210000e+03 \\\\\\\\\\n9    &                  \\\\textit{MostRecentBillAmount} &                   8810.0 &  $\\\\longrightarrow$ &              3.317000e+03 \\\\\\\\\\n9    &                    \\\\textit{TotalOverdueCounts} &                      1.0 &  $\\\\longrightarrow$ &              0.000000e+00 \\\\\\\\\\n9    &                    \\\\textit{TotalMonthsOverdue} &                     16.0 &  $\\\\longrightarrow$ &              1.500000e+01 \\\\\\\\\\n9    &          \\\\textit{MaxBillAmountOverLast6Months} &                   8810.0 &  $\\\\longrightarrow$ &              8.892000e+03 \\\\\\\\\\n9    &  \\\\textit{MonthsWithZeroBalanceOverLast6Months} &                      0.0 &  $\\\\longrightarrow$ &              1.000000e+00 \\\\\\\\\\n\\\\bottomrule\\n\\\\end{tabular}\\n'"
      ]
     },
     "execution_count": 16,
     "metadata": {},
     "output_type": "execute_result"
    }
   ],
   "source": [
    "fs.to_latex()"
   ]
  },
  {
   "cell_type": "markdown",
   "metadata": {},
   "source": [
    "NEW: change inputs according to flipsets (takes some time!)"
   ]
  },
  {
   "cell_type": "markdown",
   "metadata": {},
   "source": [
    "**TODO:** Use only negatively predicted datapoints; Make whole thing more sound"
   ]
  },
  {
   "cell_type": "code",
   "execution_count": 17,
   "metadata": {},
   "outputs": [],
   "source": [
    "%%capture\n",
    "X_new = [copy.deepcopy(X.iloc[np.flatnonzero(yhat[j_clf] <= 0)]).to_numpy() for j_clf in range(len(good_classifiers))]\n",
    "# X_new[clf that generated flipset][datapoint, feature]\n",
    "k_fs = 0 # k-th flipset is applied; MAYDO later: iterate k_fs?\n",
    "for j_clf, clf in enumerate(good_classifiers):\n",
    "    print(\"Apply flipsets of classifier\", j_clf)\n",
    "    for i in range(X_new[j_clf].shape[0]):\n",
    "        fs = Flipset(x = X_new[j_clf][i, :], action_set = action_sets[j_clf], clf = clf)\n",
    "        fs.populate(enumeration_type = 'distinct_subsets', total_items = k_fs+1)\n",
    "        X_new[j_clf][i, fs._df['feature_idx'][k_fs]] = fs._df['x_new'][k_fs]"
   ]
  },
  {
   "cell_type": "code",
   "execution_count": 18,
   "metadata": {},
   "outputs": [
    {
     "name": "stdout",
     "output_type": "stream",
     "text": [
      "[2572, 2884, 3139, 3020, 3020, 3050, 2995, 3263, 2992, 3039]\n"
     ]
    }
   ],
   "source": [
    "print([len(X_new[i]) for i in range(len(good_classifiers))])"
   ]
  },
  {
   "cell_type": "markdown",
   "metadata": {},
   "source": [
    "NEW: Measure for how many individuals the adjusted input leads to desirable outcomes for each classifier"
   ]
  },
  {
   "cell_type": "code",
   "execution_count": 19,
   "metadata": {},
   "outputs": [],
   "source": [
    "yhat_new = [[clf_pred.predict(X_new[j_fs]) for clf_pred in good_classifiers] \\\n",
    "            for j_fs in range(len(good_classifiers))] \n",
    "# yhat_new[clf that generated flipset][clf that predicted outcome][datapoint]\n",
    "# the datapoint dimension has different lengths!"
   ]
  },
  {
   "cell_type": "code",
   "execution_count": 20,
   "metadata": {},
   "outputs": [
    {
     "name": "stdout",
     "output_type": "stream",
     "text": [
      "[[2572, 2884, 3139, 3020, 3020, 3050, 2995, 3263, 2992, 3039], [2572, 2884, 3139, 3020, 3020, 3050, 2995, 3263, 2992, 3039], [2572, 2884, 3139, 3020, 3020, 3050, 2995, 3263, 2992, 3039], [2572, 2884, 3139, 3020, 3020, 3050, 2995, 3263, 2992, 3039], [2572, 2884, 3139, 3020, 3020, 3050, 2995, 3263, 2992, 3039], [2572, 2884, 3139, 3020, 3020, 3050, 2995, 3263, 2992, 3039], [2572, 2884, 3139, 3020, 3020, 3050, 2995, 3263, 2992, 3039], [2572, 2884, 3139, 3020, 3020, 3050, 2995, 3263, 2992, 3039], [2572, 2884, 3139, 3020, 3020, 3050, 2995, 3263, 2992, 3039], [2572, 2884, 3139, 3020, 3020, 3050, 2995, 3263, 2992, 3039]]\n"
     ]
    }
   ],
   "source": [
    "print([[len(yhat_new[i][j]) for i in range(len(good_classifiers))] for j in range(len(good_classifiers))])"
   ]
  },
  {
   "cell_type": "code",
   "execution_count": 21,
   "metadata": {},
   "outputs": [],
   "source": [
    "flip_accuracy = [[yhat_new[i_fs][j_pred].mean() for j_pred in range(len(good_classifiers))] \\\n",
    "                 for i_fs in range(len(good_classifiers))]\n",
    "# flip_accuracy[clf that generared][clf that evaluated]"
   ]
  },
  {
   "cell_type": "markdown",
   "metadata": {},
   "source": [
    "Not necessary: Some example to see change"
   ]
  },
  {
   "cell_type": "code",
   "execution_count": 22,
   "metadata": {},
   "outputs": [
    {
     "name": "stdout",
     "output_type": "stream",
     "text": [
      "    Married  Single  Age_lt_25  Age_in_25_to_40  Age_in_40_to_59  ...  \\\n",
      "13        0       1          0                1                0  ...   \n",
      "16        0       1          1                0                0  ...   \n",
      "22        0       1          0                1                0  ...   \n",
      "50        0       1          0                0                1  ...   \n",
      "\n",
      "    MostRecentBillAmount  MostRecentPaymentAmount  TotalOverdueCounts  \\\n",
      "13                  2010                      100                   2   \n",
      "16                   470                      100                   1   \n",
      "22                  1250                       60                   2   \n",
      "50                  1130                        0                   1   \n",
      "\n",
      "    TotalMonthsOverdue  HistoryOfOverduePayments  \n",
      "13                   7                         1  \n",
      "16                   8                         1  \n",
      "22                   8                         1  \n",
      "50                   9                         1  \n",
      "\n",
      "[4 rows x 17 columns]\n",
      "[[   0    1    0    1    0    0    2 2060  100    0    0    4 2010  100\n",
      "     2    5    1]\n",
      " [   0    1    1    0    0    0    3  580  100    0    0    5  470  100\n",
      "     1    6    1]\n",
      " [   0    1    0    1    0    0    2 1596  110    0    0    0 1177   60\n",
      "     2    7    1]\n",
      " [   0    1    0    0    1    0    1 1200   90    0    0    0 1130    0\n",
      "     1    8    1]]\n",
      "after [1. 1. 1. 1. 1. 1. 1. 1. 1. 1.]\n",
      "befor [0. 0. 0. 0. 0. 0. 0. 0. 0. 0.]\n",
      "after [0. 1. 0. 0. 1. 1. 1. 1. 1. 1.]\n",
      "befor [0. 0. 0. 0. 0. 0. 0. 0. 0. 0.]\n",
      "after [0. 1. 0. 0. 1. 1. 1. 1. 1. 0.]\n",
      "befor [0. 0. 0. 0. 0. 0. 0. 0. 0. 0.]\n",
      "after [0. 0. 0. 0. 1. 1. 1. 0. 1. 0.]\n",
      "befor [0. 0. 0. 0. 0. 0. 0. 0. 0. 0.]\n",
      "after [0. 0. 0. 1. 1. 1. 1. 0. 1. 0.]\n",
      "befor [0. 0. 0. 0. 0. 0. 0. 0. 0. 0.]\n",
      "after [0. 0. 0. 0. 1. 1. 1. 0. 1. 0.]\n",
      "befor [0. 0. 0. 0. 0. 0. 0. 0. 0. 0.]\n",
      "after [0. 0. 0. 0. 1. 1. 1. 0. 1. 0.]\n",
      "befor [0. 0. 0. 0. 0. 0. 0. 0. 0. 0.]\n",
      "after [0. 1. 0. 0. 1. 1. 1. 1. 1. 1.]\n",
      "befor [0. 0. 0. 0. 0. 0. 0. 0. 0. 0.]\n",
      "after [0. 0. 0. 1. 1. 1. 1. 0. 1. 0.]\n",
      "befor [0. 0. 0. 0. 0. 0. 0. 0. 0. 0.]\n",
      "after [0. 0. 0. 1. 1. 1. 1. 0. 1. 0.]\n",
      "befor [0. 0. 0. 0. 0. 0. 0. 0. 0. 0.]\n"
     ]
    }
   ],
   "source": [
    "print(X.iloc[np.flatnonzero(yhat[0] <= 0)][:4])\n",
    "print(X_new[0][:4])\n",
    "for j_clf in range(len(good_classifiers)):\n",
    "    print(\"after\", yhat_new[0][j_clf][:10])\n",
    "    print(\"befor\", yhat[j_clf][np.flatnonzero(yhat[0] <= 0)][:10])"
   ]
  },
  {
   "cell_type": "markdown",
   "metadata": {},
   "source": [
    "Not necessary: Which features have changed, examplary for clf 0"
   ]
  },
  {
   "cell_type": "code",
   "execution_count": 23,
   "metadata": {},
   "outputs": [
    {
     "name": "stdout",
     "output_type": "stream",
     "text": [
      "Married                                  0.000000\n",
      "Single                                   0.000000\n",
      "Age_lt_25                                0.000000\n",
      "Age_in_25_to_40                          0.000000\n",
      "Age_in_40_to_59                          0.000000\n",
      "Age_geq_60                               0.000000\n",
      "EducationLevel                           0.000000\n",
      "MaxBillAmountOverLast6Months             0.288491\n",
      "MaxPaymentAmountOverLast6Months          0.001944\n",
      "MonthsWithZeroBalanceOverLast6Months     0.119751\n",
      "MonthsWithLowSpendingOverLast6Months     0.014774\n",
      "MonthsWithHighSpendingOverLast6Months    0.026050\n",
      "MostRecentBillAmount                     0.153188\n",
      "MostRecentPaymentAmount                  0.019051\n",
      "TotalOverdueCounts                       0.069984\n",
      "TotalMonthsOverdue                       0.940124\n",
      "HistoryOfOverduePayments                 0.000000\n",
      "dtype: float64\n"
     ]
    }
   ],
   "source": [
    "print((X.iloc[np.flatnonzero(yhat[0] <= 0)]!=X_new[0]).mean(axis=0))"
   ]
  },
  {
   "cell_type": "markdown",
   "metadata": {},
   "source": [
    "Inspect flip robustness **TODO:** Inspect non-1 diag value"
   ]
  },
  {
   "cell_type": "code",
   "execution_count": 85,
   "metadata": {},
   "outputs": [
    {
     "name": "stdout",
     "output_type": "stream",
     "text": [
      "[1.         1.         1.         1.         1.         1.\n",
      " 1.         0.99969353 1.         1.        ]\n",
      "(10, 9)\n",
      "50\n",
      "33\n",
      "0.6168283176620234\n",
      "0.10247768735734966\n",
      "0.9019672131147541\n"
     ]
    }
   ],
   "source": [
    "flip_robustness = np.asarray(flip_accuracy)\n",
    "flip_robustness.shape\n",
    "print(np.diag(flip_robustness))\n",
    "\n",
    "fr_no_diag = np.asarray([np.delete(fa, i) for i, fa in enumerate(flip_accuracy)])\n",
    "print(fr_no_diag.shape)\n",
    "print(fr_no_diag.argmax())\n",
    "print(fr_no_diag.argmin())\n",
    "print(fr_no_diag.mean())\n",
    "print(fr_no_diag.std())\n",
    "\n",
    "print(fr_no_diag[int(50/9), 50%9])"
   ]
  },
  {
   "cell_type": "markdown",
   "metadata": {},
   "source": [
    "Plot some figures."
   ]
  },
  {
   "cell_type": "code",
   "execution_count": 27,
   "metadata": {},
   "outputs": [
    {
     "data": {
      "image/png": "[encoded data removed]",
      "text/plain": [
       "<Figure size 432x288 with 2 Axes>"
      ]
     },
     "metadata": {},
     "output_type": "display_data"
    }
   ],
   "source": [
    "# graphisch reprsentieren?\n",
    "import seaborn as sns\n",
    "sns.set()\n",
    "sns.heatmap(flip_accuracy)\n",
    "plt.title(\"Flip robustness\")\n",
    "plt.xlabel(\"Classifier used to evaluate\")\n",
    "plt.ylabel(\"Classifier used for creating flipsets\")\n",
    "plt.savefig(\"heatmap_flip_accuracy.svg\")"
   ]
  },
  {
   "cell_type": "code",
   "execution_count": 28,
   "metadata": {},
   "outputs": [
    {
     "name": "stdout",
     "output_type": "stream",
     "text": [
      "[1.0, 0.5143856920684292, 0.46578538102643857, 0.4918351477449456, 0.4937791601866252, 0.48405909797822705, 0.4941679626749611, 0.47900466562986005, 0.48716951788491447, 0.4770606531881804]\n"
     ]
    }
   ],
   "source": [
    "print(flip_accuracy[0])"
   ]
  },
  {
   "cell_type": "code",
   "execution_count": 29,
   "metadata": {},
   "outputs": [
    {
     "data": {
      "image/png": "[encoded data removed]",
      "text/plain": [
       "<Figure size 432x288 with 1 Axes>"
      ]
     },
     "metadata": {},
     "output_type": "display_data"
    }
   ],
   "source": [
    "import matplotlib.pyplot as plt\n",
    "x_scatter = np.repeat([np.log(x) for x in good_Cs], len(good_classifiers))\n",
    "plt.scatter(x_scatter, np.array(flip_accuracy).flatten())\n",
    "plt.title(\"Robustness of flipsets\")\n",
    "plt.xlabel(\"C parameter of classifier used to create flipsets\")\n",
    "plt.ylabel(\"Relative amount of flipsets\\n that hold for other classifiers\")\n",
    "plt.savefig(\"scatter_flip_accuracy.svg\")"
   ]
  },
  {
   "cell_type": "code",
   "execution_count": 30,
   "metadata": {},
   "outputs": [
    {
     "data": {
      "image/png": "[encoded data removed]",
      "text/plain": [
       "<Figure size 432x288 with 1 Axes>"
      ]
     },
     "metadata": {},
     "output_type": "display_data"
    }
   ],
   "source": [
    "x_scatter = np.tile([np.log(x) for x in good_Cs], len(good_classifiers))\n",
    "plt.scatter(x_scatter, np.array(flip_accuracy).flatten())\n",
    "plt.title(\"Robustness of flipsets\")\n",
    "plt.xlabel(\"C parameter of classifier used to evaluate\")\n",
    "plt.ylabel(\"Relative amount of flipsets generated\\n by other classifier that hold\")\n",
    "plt.savefig(\"scatter_flip_accuracy_by_clf_pred.svg\")"
   ]
  },
  {
   "cell_type": "code",
   "execution_count": 31,
   "metadata": {},
   "outputs": [
    {
     "data": {
      "image/png": "[encoded data removed]",
      "text/plain": [
       "<Figure size 432x288 with 1 Axes>"
      ]
     },
     "metadata": {},
     "output_type": "display_data"
    }
   ],
   "source": [
    "plt.hist(np.array(flip_accuracy).flatten(), bins=30, density=False, histtype='bar', facecolor = 'green', alpha = 0.9)\n",
    "plt.title(\"Distribution of flipset robustness\")\n",
    "plt.xlabel(\"Relative amount of flipsets\\n that hold for other classifiers\")\n",
    "plt.ylabel(\"Frequency among all \" + str(len(good_classifiers)**2) + \"\\n combinations of classifiers\")\n",
    "plt.savefig(\"histogram_flip_accuracy.svg\")\n",
    "plt.show()"
   ]
  },
  {
   "cell_type": "markdown",
   "metadata": {},
   "source": [
    "**TODO!:** Why are flipsets not perfect, i. e. diagonal of flip_accuracy has enties < 1??!!"
   ]
  },
  {
   "cell_type": "code",
   "execution_count": 32,
   "metadata": {},
   "outputs": [
    {
     "name": "stdout",
     "output_type": "stream",
     "text": [
      "[1.0, 1.0, 1.0, 1.0, 1.0, 1.0, 1.0, 0.9996935335580754, 1.0, 1.0]\n"
     ]
    }
   ],
   "source": [
    "print([flip_accuracy[i][i] for i in range(len(good_classifiers))])"
   ]
  },
  {
   "cell_type": "markdown",
   "metadata": {},
   "source": [
    "Run Recourse Audit for each classifier on Training Data (Takes some time!)"
   ]
  },
  {
   "cell_type": "code",
   "execution_count": 99,
   "metadata": {},
   "outputs": [
    {
     "data": {
      "application/vnd.jupyter.widget-view+json": {
       "model_id": "5cb5c93e557848848729c445994cae37",
       "version_major": 2,
       "version_minor": 0
      },
      "text/plain": [
       "HBox(children=(FloatProgress(value=0.0, max=2534.0), HTML(value='')))"
      ]
     },
     "metadata": {},
     "output_type": "display_data"
    },
    {
     "name": "stdout",
     "output_type": "stream",
     "text": [
      "\n"
     ]
    },
    {
     "data": {
      "application/vnd.jupyter.widget-view+json": {
       "model_id": "76a40c389d0a417eb93e02ee5a43e00c",
       "version_major": 2,
       "version_minor": 0
      },
      "text/plain": [
       "HBox(children=(FloatProgress(value=0.0, max=2846.0), HTML(value='')))"
      ]
     },
     "metadata": {},
     "output_type": "display_data"
    },
    {
     "name": "stdout",
     "output_type": "stream",
     "text": [
      "\n"
     ]
    },
    {
     "data": {
      "application/vnd.jupyter.widget-view+json": {
       "model_id": "3e9f88ed8194423ea890b64ce635145f",
       "version_major": 2,
       "version_minor": 0
      },
      "text/plain": [
       "HBox(children=(FloatProgress(value=0.0, max=3101.0), HTML(value='')))"
      ]
     },
     "metadata": {},
     "output_type": "display_data"
    },
    {
     "name": "stdout",
     "output_type": "stream",
     "text": [
      "\n"
     ]
    },
    {
     "data": {
      "application/vnd.jupyter.widget-view+json": {
       "model_id": "8bf743f2961b4f7d818848af2da6f700",
       "version_major": 2,
       "version_minor": 0
      },
      "text/plain": [
       "HBox(children=(FloatProgress(value=0.0, max=2981.0), HTML(value='')))"
      ]
     },
     "metadata": {},
     "output_type": "display_data"
    },
    {
     "name": "stdout",
     "output_type": "stream",
     "text": [
      "\n"
     ]
    },
    {
     "data": {
      "application/vnd.jupyter.widget-view+json": {
       "model_id": "ae9a67fcab3e423998dd42564ce9741f",
       "version_major": 2,
       "version_minor": 0
      },
      "text/plain": [
       "HBox(children=(FloatProgress(value=0.0, max=2981.0), HTML(value='')))"
      ]
     },
     "metadata": {},
     "output_type": "display_data"
    },
    {
     "name": "stdout",
     "output_type": "stream",
     "text": [
      "\n"
     ]
    },
    {
     "data": {
      "application/vnd.jupyter.widget-view+json": {
       "model_id": "e22096ded28742839c5734d90633f55c",
       "version_major": 2,
       "version_minor": 0
      },
      "text/plain": [
       "HBox(children=(FloatProgress(value=0.0, max=3011.0), HTML(value='')))"
      ]
     },
     "metadata": {},
     "output_type": "display_data"
    },
    {
     "name": "stdout",
     "output_type": "stream",
     "text": [
      "\n"
     ]
    },
    {
     "data": {
      "application/vnd.jupyter.widget-view+json": {
       "model_id": "81be688b6fe949ce882de3c4a979da42",
       "version_major": 2,
       "version_minor": 0
      },
      "text/plain": [
       "HBox(children=(FloatProgress(value=0.0, max=2956.0), HTML(value='')))"
      ]
     },
     "metadata": {},
     "output_type": "display_data"
    },
    {
     "name": "stdout",
     "output_type": "stream",
     "text": [
      "\n"
     ]
    },
    {
     "data": {
      "application/vnd.jupyter.widget-view+json": {
       "model_id": "3836cecae88d44d3874075e0b823ba91",
       "version_major": 2,
       "version_minor": 0
      },
      "text/plain": [
       "HBox(children=(FloatProgress(value=0.0, max=3222.0), HTML(value='')))"
      ]
     },
     "metadata": {},
     "output_type": "display_data"
    },
    {
     "name": "stdout",
     "output_type": "stream",
     "text": [
      "\n"
     ]
    },
    {
     "data": {
      "application/vnd.jupyter.widget-view+json": {
       "model_id": "a2969ccab4b240908feacf9bc9c3e1f6",
       "version_major": 2,
       "version_minor": 0
      },
      "text/plain": [
       "HBox(children=(FloatProgress(value=0.0, max=2953.0), HTML(value='')))"
      ]
     },
     "metadata": {},
     "output_type": "display_data"
    },
    {
     "name": "stdout",
     "output_type": "stream",
     "text": [
      "\n"
     ]
    },
    {
     "data": {
      "application/vnd.jupyter.widget-view+json": {
       "model_id": "2fa6e8e11d4b402cb3ca7f3006dbb4cd",
       "version_major": 2,
       "version_minor": 0
      },
      "text/plain": [
       "HBox(children=(FloatProgress(value=0.0, max=3000.0), HTML(value='')))"
      ]
     },
     "metadata": {},
     "output_type": "display_data"
    },
    {
     "name": "stdout",
     "output_type": "stream",
     "text": [
      "\n"
     ]
    }
   ],
   "source": [
    "recourse_feasibilities = []\n",
    "recourse_costs = []\n",
    "recourse_cost_stds = []\n",
    "for j, clf in enumerate(good_classifiers):\n",
    "    auditor = RecourseAuditor(action_sets[j], coefficients = clf.coef_[0], intercept = clf.intercept_[0])\n",
    "    audit_df = auditor.audit(X)  ## matrix of features over which we will perform the audit.\n",
    "    recourse_feasibilities.append(audit_df['feasible'].mean())\n",
    "    recourse_costs.append(audit_df['cost'].mean())\n",
    "    recourse_cost_stds.append(audit_df['cost'].std())"
   ]
  },
  {
   "cell_type": "code",
   "execution_count": 87,
   "metadata": {},
   "outputs": [
    {
     "name": "stdout",
     "output_type": "stream",
     "text": [
      "0.044664908386575296\n",
      "0.0520456491795402\n",
      "0.04629356411897387\n",
      "0.0020639459762727373\n"
     ]
    }
   ],
   "source": [
    "recourse_costs_ = np.asarray(recourse_costs)\n",
    "print(recourse_costs_.min())\n",
    "print(recourse_costs_.max())\n",
    "print(recourse_costs_.mean())\n",
    "print(recourse_costs_.std())"
   ]
  },
  {
   "cell_type": "code",
   "execution_count": 103,
   "metadata": {},
   "outputs": [],
   "source": [
    "# in dataframe speichern\n",
    "results = pd.DataFrame(data={})#'i_clf': np.arange(len(good_classifiers))})\n",
    "results['C'] = good_Cs\n",
    "results['CV_accuracy'] = np.asarray(cv_scores)[cv_scores >= np.max(cv_scores) - tolerance]\n",
    "results['y=0 frequency'] = [np.mean(yhat[i] < 1) for i in range(len(good_classifiers))]\n",
    "results['feasibility'] = recourse_feasibilities\n",
    "results['cost_mean'] = recourse_costs\n",
    "results['cost_std'] = recourse_cost_stds\n",
    "results['fr_generating'] = flip_accuracy\n",
    "results['fr_evaluating'] = [[flip_accuracy[i_fs][j_pred] for i_fs in range(len(good_classifiers))]\\\n",
    "                           for j_pred in range(len(good_classifiers))] #flip_accuracy.T\n"
   ]
  },
  {
   "cell_type": "code",
   "execution_count": 104,
   "metadata": {},
   "outputs": [],
   "source": [
    "results['fr_generating_mean'] = [np.mean(results['fr_generating'][i]) for i in range(len(results))]\n",
    "results['fr_generating_std'] = [np.std(results['fr_generating'][i]) for i in range(len(results))]\n",
    "results['fr_evaluating_mean'] = [np.mean(results['fr_evaluating'][i]) for i in range(len(results))]\n",
    "results['fr_evaluating_std'] = [np.std(results['fr_evaluating'][i]) for i in range(len(results))]"
   ]
  },
  {
   "cell_type": "code",
   "execution_count": 108,
   "metadata": {},
   "outputs": [],
   "source": [
    "results = results.drop(['fr_generating','fr_evaluating'], axis=1)"
   ]
  },
  {
   "cell_type": "code",
   "execution_count": 109,
   "metadata": {},
   "outputs": [
    {
     "name": "stdout",
     "output_type": "stream",
     "text": [
      "\\begin{tabular}{lrrrrrrrrrr}\n",
      "\\toprule\n",
      "{} &           C &  CV\\_accuracy &  y=0 frequency &  feasibility &  cost\\_mean &  cost\\_std &  fr\\_generating\\_mean &  fr\\_generating\\_std &  fr\\_evaluating\\_mean &  fr\\_evaluating\\_std \\\\\n",
      "\\midrule\n",
      "0 &    0.001274 &     0.805933 &       0.085733 &          1.0 &   0.044665 &  0.023185 &            0.538725 &           0.154242 &            0.694874 &           0.104023 \\\\\n",
      "1 &    0.002976 &     0.806067 &       0.096133 &          1.0 &   0.046043 &  0.025427 &            0.632108 &           0.142000 &            0.661756 &           0.120241 \\\\\n",
      "2 &    0.206914 &     0.805533 &       0.104633 &          1.0 &   0.047656 &  0.026791 &            0.680185 &           0.117420 &            0.548556 &           0.154994 \\\\\n",
      "3 &    0.483293 &     0.805367 &       0.100667 &          1.0 &   0.045214 &  0.025487 &            0.649073 &           0.142912 &            0.705751 &           0.129740 \\\\\n",
      "4 &    1.128838 &     0.805567 &       0.100667 &          1.0 &   0.045275 &  0.025600 &            0.679768 &           0.147255 &            0.701922 &           0.132335 \\\\\n",
      "5 &   14.384499 &     0.805567 &       0.101667 &          1.0 &   0.045624 &  0.026096 &            0.734000 &           0.155650 &            0.645880 &           0.130821 \\\\\n",
      "6 &   33.598183 &     0.805633 &       0.099833 &          1.0 &   0.045143 &  0.025125 &            0.632354 &           0.149077 &            0.741842 &           0.142428 \\\\\n",
      "7 &   78.475997 &     0.805400 &       0.108767 &          1.0 &   0.052046 &  0.032288 &            0.641404 &           0.119563 &            0.516025 &           0.162509 \\\\\n",
      "8 &  183.298071 &     0.805333 &       0.099733 &          1.0 &   0.045415 &  0.025525 &            0.649198 &           0.138588 &            0.680130 &           0.124607 \\\\\n",
      "9 &  428.133240 &     0.805600 &       0.101300 &          1.0 &   0.045855 &  0.026276 &            0.714610 &           0.144835 &            0.654689 &           0.135411 \\\\\n",
      "\\bottomrule\n",
      "\\end{tabular}\n",
      "\n"
     ]
    }
   ],
   "source": [
    "print(results.to_latex(index=True))"
   ]
  },
  {
   "cell_type": "code",
   "execution_count": null,
   "metadata": {},
   "outputs": [],
   "source": []
  }
 ],
 "metadata": {
  "kernelspec": {
   "display_name": "Python 3",
   "language": "python",
   "name": "python3"
  },
  "language_info": {
   "codemirror_mode": {
    "name": "ipython",
    "version": 3
   },
   "file_extension": ".py",
   "mimetype": "text/x-python",
   "name": "python",
   "nbconvert_exporter": "python",
   "pygments_lexer": "ipython3",
   "version": "3.6.10"
  }
 },
 "nbformat": 4,
 "nbformat_minor": 4
}
