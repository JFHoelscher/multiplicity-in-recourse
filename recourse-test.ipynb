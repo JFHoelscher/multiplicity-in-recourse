{
 "cells": [
  {
   "cell_type": "markdown",
   "metadata": {},
   "source": [
    "Test for using actionable-recourse, provided on https://github.com/ustunb/actionable-recourse\n",
    "\n",
    "In order to compare recourse for several similar classifiers, we use cross validation to fit several logistic regression models (Is this the right way?). In the next step, we want to check whether the flipsets generated for one of them apply also for the other classifiers."
   ]
  },
  {
   "cell_type": "code",
   "execution_count": 1,
   "metadata": {},
   "outputs": [],
   "source": [
    "import copy\n",
    "import pandas as pd\n",
    "import numpy as np\n",
    "from sklearn.linear_model import LogisticRegression\n",
    "from sklearn.model_selection import cross_validate\n",
    "import recourse as rs\n",
    "from recourse.builder import ActionSet #FIX\n",
    "from recourse.flipset import Flipset #FIX\n",
    "from recourse.auditor import RecourseAuditor #FIX"
   ]
  },
  {
   "cell_type": "markdown",
   "metadata": {},
   "source": [
    "import data"
   ]
  },
  {
   "cell_type": "code",
   "execution_count": 27,
   "metadata": {},
   "outputs": [],
   "source": [
    "url = 'https://raw.githubusercontent.com/ustunb/actionable-recourse/master/examples/paper/data/credit_processed.csv'\n",
    "df = pd.read_csv(url, skipinitialspace=True)\n",
    "y, X = df.iloc[:, 0], df.iloc[:, 1:]"
   ]
  },
  {
   "cell_type": "markdown",
   "metadata": {},
   "source": [
    "NEW: Use Cross validation to train several different classifiers"
   ]
  },
  {
   "cell_type": "code",
   "execution_count": 3,
   "metadata": {},
   "outputs": [],
   "source": [
    "clf = LogisticRegression(max_iter=10000)\n",
    "cv = cross_validate(clf, X, y, cv=20, return_estimator=True)"
   ]
  },
  {
   "cell_type": "markdown",
   "metadata": {},
   "source": [
    "NEW: Select those classifiers that achieve performance within certain tolerance"
   ]
  },
  {
   "cell_type": "code",
   "execution_count": 4,
   "metadata": {},
   "outputs": [
    {
     "name": "stdout",
     "output_type": "stream",
     "text": [
      "0.826\n",
      "0.009025580929287106\n",
      "9\n"
     ]
    }
   ],
   "source": [
    "#X_test = X[:3]\n",
    "#for i, est in enumerate(scores['estimator']):\n",
    "#    print(scores['test_score'][i], est.predict(X_test))\n",
    "cv_scores = cv['test_score']\n",
    "tolerance = 2*np.std(cv_scores)\n",
    "good_classifiers = np.array(cv['estimator'])[cv_scores >= np.max(cv_scores) - tolerance]\n",
    "\n",
    "print(np.max(cv_scores))\n",
    "print(cv_scores.std())\n",
    "print(len(good_classifiers))"
   ]
  },
  {
   "cell_type": "markdown",
   "metadata": {},
   "source": [
    "get predictions"
   ]
  },
  {
   "cell_type": "code",
   "execution_count": 5,
   "metadata": {},
   "outputs": [],
   "source": [
    "yhat = [clf.predict(X) for clf in good_classifiers]"
   ]
  },
  {
   "cell_type": "markdown",
   "metadata": {},
   "source": [
    "customize the set of actions and align"
   ]
  },
  {
   "cell_type": "code",
   "execution_count": 6,
   "metadata": {},
   "outputs": [],
   "source": [
    "action_sets=[]\n",
    "for clf in good_classifiers:\n",
    "    ## matrix of features. ActionSet will learn default bounds and step-size.\n",
    "    A = ActionSet(X)\n",
    "    ## specify immutable variables\n",
    "    A['Married'].mutable = False \n",
    "    ## can only specify properties for multiple variables using a list\n",
    "    A[['Age_lt_25', 'Age_in_25_to_40', 'Age_in_40_to_59', 'Age_geq_60']].mutable = False \n",
    "    A['EducationLevel'].step_direction = 1  ## force conditional immutability.\n",
    "    A['EducationLevel'].step_size = 1  ## set step-size to a custom value.\n",
    "    A['EducationLevel'].step_type = \"absolute\"  ## force conditional immutability.\n",
    "    A['EducationLevel'].bounds = (0, 3)\n",
    "    A['TotalMonthsOverdue'].step_size = 1  ## set step-size to a custom value.\n",
    "    A['TotalMonthsOverdue'].step_type = \"absolute\"  ## discretize on absolute values of feature rather than percentile values\n",
    "    A['TotalMonthsOverdue'].bounds = (0, 100)  ## set bounds to a custom value.\n",
    "    \n",
    "    ## tells `ActionSet` which directions each feature should move in to produce positive change.\n",
    "    A.align(clf)\n",
    "    action_sets.append(A)"
   ]
  },
  {
   "cell_type": "markdown",
   "metadata": {},
   "source": [
    "Not necessary: testing if action sets were aligned correctly"
   ]
  },
  {
   "cell_type": "code",
   "execution_count": 7,
   "metadata": {},
   "outputs": [],
   "source": [
    "for j,clf in enumerate(good_classifiers):\n",
    "    for i,c in enumerate(X.columns):\n",
    "        if action_sets[j]._elements[c].flip_direction != np.sign(clf.coef_[:,i]):\n",
    "            print(\"Not well aligned\", j, i)"
   ]
  },
  {
   "cell_type": "markdown",
   "metadata": {},
   "source": [
    "**TODO:** We should get all flipsets and test them. But maybe first get it right for one..."
   ]
  },
  {
   "cell_type": "code",
   "execution_count": 8,
   "metadata": {},
   "outputs": [],
   "source": [
    "j_clf = 0\n",
    "i = np.flatnonzero(yhat[j_clf] <= 0)[0]"
   ]
  },
  {
   "cell_type": "markdown",
   "metadata": {},
   "source": [
    "build a flipset for one individual"
   ]
  },
  {
   "cell_type": "code",
   "execution_count": 18,
   "metadata": {},
   "outputs": [],
   "source": [
    "%%capture \n",
    "#discard the output of this cell (fs.populate prints way to much)\n",
    "fs = Flipset(x = [X.iloc[i]], action_set = action_sets[j_clf], clf = good_classifiers[j_clf])\n",
    "fs.populate(enumeration_type = 'distinct_subsets', total_items = 10)"
   ]
  },
  {
   "cell_type": "markdown",
   "metadata": {},
   "source": [
    "**TODO:** How can we test whether the Flipset actually changes the outcome?\n",
    "\n",
    "apply a flipset, **TODO**: Test the outcome given several classifiers\n",
    "\n",
    "**CONCERN:** why does fs._df['x'][j] not match x[f]? (Also according to the code, this should be the old value of the features)"
   ]
  },
  {
   "cell_type": "code",
   "execution_count": 33,
   "metadata": {},
   "outputs": [
    {
     "name": "stdout",
     "output_type": "stream",
     "text": [
      "Married                                    1\n",
      "Single                                     0\n",
      "Age_lt_25                                  1\n",
      "Age_in_25_to_40                            0\n",
      "Age_in_40_to_59                            0\n",
      "Age_geq_60                                 0\n",
      "EducationLevel                             2\n",
      "MaxBillAmountOverLast6Months             120\n",
      "MaxPaymentAmountOverLast6Months           20\n",
      "MonthsWithZeroBalanceOverLast6Months       0\n",
      "MonthsWithLowSpendingOverLast6Months       6\n",
      "MonthsWithHighSpendingOverLast6Months      0\n",
      "MostRecentBillAmount                     120\n",
      "MostRecentPaymentAmount                    0\n",
      "TotalOverdueCounts                         1\n",
      "TotalMonthsOverdue                         4\n",
      "HistoryOfOverduePayments                   1\n",
      "Name: 0, dtype: int64\n",
      "set MaxPaymentAmountOverLast6Months from 20 to 110.0\n",
      "set TotalMonthsOverdue from 4 to 3.0\n",
      "Married                                    1\n",
      "Single                                     0\n",
      "Age_lt_25                                  1\n",
      "Age_in_25_to_40                            0\n",
      "Age_in_40_to_59                            0\n",
      "Age_geq_60                                 0\n",
      "EducationLevel                             2\n",
      "MaxBillAmountOverLast6Months             120\n",
      "MaxPaymentAmountOverLast6Months          110\n",
      "MonthsWithZeroBalanceOverLast6Months       0\n",
      "MonthsWithLowSpendingOverLast6Months       6\n",
      "MonthsWithHighSpendingOverLast6Months      0\n",
      "MostRecentBillAmount                     120\n",
      "MostRecentPaymentAmount                    0\n",
      "TotalOverdueCounts                         1\n",
      "TotalMonthsOverdue                         3\n",
      "HistoryOfOverduePayments                   1\n",
      "Name: 0, dtype: int64\n"
     ]
    },
    {
     "data": {
      "text/html": [
       "<div>\n",
       "<style scoped>\n",
       "    .dataframe tbody tr th:only-of-type {\n",
       "        vertical-align: middle;\n",
       "    }\n",
       "\n",
       "    .dataframe tbody tr th {\n",
       "        vertical-align: top;\n",
       "    }\n",
       "\n",
       "    .dataframe thead th {\n",
       "        text-align: right;\n",
       "    }\n",
       "</style>\n",
       "<table border=\"1\" class=\"dataframe\">\n",
       "  <thead>\n",
       "    <tr style=\"text-align: right;\">\n",
       "      <th></th>\n",
       "      <th>cost</th>\n",
       "      <th>size</th>\n",
       "      <th>features</th>\n",
       "      <th>feature_idx</th>\n",
       "      <th>x</th>\n",
       "      <th>x_new</th>\n",
       "      <th>score_new</th>\n",
       "      <th>yhat_new</th>\n",
       "      <th>feasible</th>\n",
       "      <th>flipped</th>\n",
       "    </tr>\n",
       "  </thead>\n",
       "  <tbody>\n",
       "    <tr>\n",
       "      <th>0</th>\n",
       "      <td>0.790661</td>\n",
       "      <td>1</td>\n",
       "      <td>[TotalMonthsOverdue]</td>\n",
       "      <td>[15]</td>\n",
       "      <td>[7.0]</td>\n",
       "      <td>[3.0]</td>\n",
       "      <td>0.045469</td>\n",
       "      <td>1.0</td>\n",
       "      <td>True</td>\n",
       "      <td>True</td>\n",
       "    </tr>\n",
       "    <tr>\n",
       "      <th>1</th>\n",
       "      <td>0.819801</td>\n",
       "      <td>2</td>\n",
       "      <td>[MaxPaymentAmountOverLast6Months, TotalMonthsO...</td>\n",
       "      <td>[8, 15]</td>\n",
       "      <td>[100.0, 7.0]</td>\n",
       "      <td>[110.0, 3.0]</td>\n",
       "      <td>0.045779</td>\n",
       "      <td>1.0</td>\n",
       "      <td>True</td>\n",
       "      <td>True</td>\n",
       "    </tr>\n",
       "    <tr>\n",
       "      <th>2</th>\n",
       "      <td>0.829566</td>\n",
       "      <td>2</td>\n",
       "      <td>[MostRecentBillAmount, TotalMonthsOverdue]</td>\n",
       "      <td>[12, 15]</td>\n",
       "      <td>[2010.0, 7.0]</td>\n",
       "      <td>[1926.0, 3.0]</td>\n",
       "      <td>0.054962</td>\n",
       "      <td>1.0</td>\n",
       "      <td>True</td>\n",
       "      <td>True</td>\n",
       "    </tr>\n",
       "    <tr>\n",
       "      <th>3</th>\n",
       "      <td>0.831567</td>\n",
       "      <td>2</td>\n",
       "      <td>[MostRecentPaymentAmount, TotalMonthsOverdue]</td>\n",
       "      <td>[13, 15]</td>\n",
       "      <td>[100.0, 7.0]</td>\n",
       "      <td>[105.0, 3.0]</td>\n",
       "      <td>0.047410</td>\n",
       "      <td>1.0</td>\n",
       "      <td>True</td>\n",
       "      <td>True</td>\n",
       "    </tr>\n",
       "    <tr>\n",
       "      <th>4</th>\n",
       "      <td>0.838015</td>\n",
       "      <td>2</td>\n",
       "      <td>[MaxBillAmountOverLast6Months, TotalMonthsOver...</td>\n",
       "      <td>[7, 15]</td>\n",
       "      <td>[2060.0, 7.0]</td>\n",
       "      <td>[2166.0, 3.0]</td>\n",
       "      <td>0.058650</td>\n",
       "      <td>1.0</td>\n",
       "      <td>True</td>\n",
       "      <td>True</td>\n",
       "    </tr>\n",
       "    <tr>\n",
       "      <th>5</th>\n",
       "      <td>0.840334</td>\n",
       "      <td>3</td>\n",
       "      <td>[MaxBillAmountOverLast6Months, MostRecentBillA...</td>\n",
       "      <td>[7, 12, 15]</td>\n",
       "      <td>[2060.0, 2010.0, 7.0]</td>\n",
       "      <td>[2622.0, 1926.0, 4.0]</td>\n",
       "      <td>0.007364</td>\n",
       "      <td>1.0</td>\n",
       "      <td>True</td>\n",
       "      <td>True</td>\n",
       "    </tr>\n",
       "    <tr>\n",
       "      <th>6</th>\n",
       "      <td>0.858707</td>\n",
       "      <td>3</td>\n",
       "      <td>[MaxPaymentAmountOverLast6Months, MostRecentBi...</td>\n",
       "      <td>[8, 12, 15]</td>\n",
       "      <td>[100.0, 2010.0, 7.0]</td>\n",
       "      <td>[110.0, 1926.0, 3.0]</td>\n",
       "      <td>0.055273</td>\n",
       "      <td>1.0</td>\n",
       "      <td>True</td>\n",
       "      <td>True</td>\n",
       "    </tr>\n",
       "    <tr>\n",
       "      <th>7</th>\n",
       "      <td>0.860707</td>\n",
       "      <td>3</td>\n",
       "      <td>[MaxPaymentAmountOverLast6Months, MostRecentPa...</td>\n",
       "      <td>[8, 13, 15]</td>\n",
       "      <td>[100.0, 100.0, 7.0]</td>\n",
       "      <td>[110.0, 105.0, 3.0]</td>\n",
       "      <td>0.047721</td>\n",
       "      <td>1.0</td>\n",
       "      <td>True</td>\n",
       "      <td>True</td>\n",
       "    </tr>\n",
       "    <tr>\n",
       "      <th>8</th>\n",
       "      <td>0.867155</td>\n",
       "      <td>3</td>\n",
       "      <td>[MaxBillAmountOverLast6Months, MaxPaymentAmoun...</td>\n",
       "      <td>[7, 8, 15]</td>\n",
       "      <td>[2060.0, 100.0, 7.0]</td>\n",
       "      <td>[2166.0, 110.0, 3.0]</td>\n",
       "      <td>0.058961</td>\n",
       "      <td>1.0</td>\n",
       "      <td>True</td>\n",
       "      <td>True</td>\n",
       "    </tr>\n",
       "    <tr>\n",
       "      <th>9</th>\n",
       "      <td>0.869474</td>\n",
       "      <td>4</td>\n",
       "      <td>[MaxBillAmountOverLast6Months, MaxPaymentAmoun...</td>\n",
       "      <td>[7, 8, 12, 15]</td>\n",
       "      <td>[2060.0, 100.0, 2010.0, 7.0]</td>\n",
       "      <td>[2622.0, 110.0, 1926.0, 4.0]</td>\n",
       "      <td>0.007675</td>\n",
       "      <td>1.0</td>\n",
       "      <td>True</td>\n",
       "      <td>True</td>\n",
       "    </tr>\n",
       "  </tbody>\n",
       "</table>\n",
       "</div>"
      ],
      "text/plain": [
       "       cost size                                           features  \\\n",
       "0  0.790661    1                               [TotalMonthsOverdue]   \n",
       "1  0.819801    2  [MaxPaymentAmountOverLast6Months, TotalMonthsO...   \n",
       "2  0.829566    2         [MostRecentBillAmount, TotalMonthsOverdue]   \n",
       "3  0.831567    2      [MostRecentPaymentAmount, TotalMonthsOverdue]   \n",
       "4  0.838015    2  [MaxBillAmountOverLast6Months, TotalMonthsOver...   \n",
       "5  0.840334    3  [MaxBillAmountOverLast6Months, MostRecentBillA...   \n",
       "6  0.858707    3  [MaxPaymentAmountOverLast6Months, MostRecentBi...   \n",
       "7  0.860707    3  [MaxPaymentAmountOverLast6Months, MostRecentPa...   \n",
       "8  0.867155    3  [MaxBillAmountOverLast6Months, MaxPaymentAmoun...   \n",
       "9  0.869474    4  [MaxBillAmountOverLast6Months, MaxPaymentAmoun...   \n",
       "\n",
       "      feature_idx                             x                         x_new  \\\n",
       "0            [15]                         [7.0]                         [3.0]   \n",
       "1         [8, 15]                  [100.0, 7.0]                  [110.0, 3.0]   \n",
       "2        [12, 15]                 [2010.0, 7.0]                 [1926.0, 3.0]   \n",
       "3        [13, 15]                  [100.0, 7.0]                  [105.0, 3.0]   \n",
       "4         [7, 15]                 [2060.0, 7.0]                 [2166.0, 3.0]   \n",
       "5     [7, 12, 15]         [2060.0, 2010.0, 7.0]         [2622.0, 1926.0, 4.0]   \n",
       "6     [8, 12, 15]          [100.0, 2010.0, 7.0]          [110.0, 1926.0, 3.0]   \n",
       "7     [8, 13, 15]           [100.0, 100.0, 7.0]           [110.0, 105.0, 3.0]   \n",
       "8      [7, 8, 15]          [2060.0, 100.0, 7.0]          [2166.0, 110.0, 3.0]   \n",
       "9  [7, 8, 12, 15]  [2060.0, 100.0, 2010.0, 7.0]  [2622.0, 110.0, 1926.0, 4.0]   \n",
       "\n",
       "   score_new  yhat_new feasible flipped  \n",
       "0   0.045469       1.0     True    True  \n",
       "1   0.045779       1.0     True    True  \n",
       "2   0.054962       1.0     True    True  \n",
       "3   0.047410       1.0     True    True  \n",
       "4   0.058650       1.0     True    True  \n",
       "5   0.007364       1.0     True    True  \n",
       "6   0.055273       1.0     True    True  \n",
       "7   0.047721       1.0     True    True  \n",
       "8   0.058961       1.0     True    True  \n",
       "9   0.007675       1.0     True    True  "
      ]
     },
     "execution_count": 33,
     "metadata": {},
     "output_type": "execute_result"
    }
   ],
   "source": [
    "print(X.iloc[i])\n",
    "x = X.iloc[i].copy()\n",
    "k = 1\n",
    "# apply the j-th action in the flipset \n",
    "for j, f in enumerate(fs._df['features'][k]):\n",
    "    print(\"set\", f, \"from\", x[f], \"to\", fs._df['x_new'][k][j])\n",
    "    x[f] = fs._df['x_new'][k][j]\n",
    "print(x)\n",
    "from IPython.display import HTML\n",
    "print(HTML(fs.to_html())\n",
    "fs._df\n",
    "#def apply_flipset(fs, x):\n",
    "    "
   ]
  },
  {
   "cell_type": "markdown",
   "metadata": {},
   "source": [
    "**TODO:** Adapt from here to end: (How) do we want t use the auditor?\n",
    "\n",
    "Run Recourse Audit on Training Data"
   ]
  },
  {
   "cell_type": "code",
   "execution_count": null,
   "metadata": {},
   "outputs": [],
   "source": [
    "auditor = RecourseAuditor(action_sets[j_clf], coefficients = good_classifiers[j_clf].coef_[0], intercept = good_classifiers[j_clf].intercept_[0])\n",
    "audit_df = auditor.audit(X)  ## matrix of features over which we will perform the audit."
   ]
  },
  {
   "cell_type": "markdown",
   "metadata": {},
   "source": [
    "print mean feasibility and cost of recourse"
   ]
  },
  {
   "cell_type": "code",
   "execution_count": 13,
   "metadata": {},
   "outputs": [
    {
     "name": "stdout",
     "output_type": "stream",
     "text": [
      "1.0\n",
      "0.044684389267020806\n"
     ]
    }
   ],
   "source": [
    "print(audit_df['feasible'].mean())\n",
    "print(audit_df['cost'].mean())"
   ]
  },
  {
   "cell_type": "markdown",
   "metadata": {},
   "source": [
    "**TODO**: Generate flipsets for each good classifier and test whether it changes the outcame when the ather good classifiers are used."
   ]
  },
  {
   "cell_type": "code",
   "execution_count": null,
   "metadata": {},
   "outputs": [],
   "source": []
  }
 ],
 "metadata": {
  "kernelspec": {
   "display_name": "Python 3",
   "language": "python",
   "name": "python3"
  },
  "language_info": {
   "codemirror_mode": {
    "name": "ipython",
    "version": 3
   },
   "file_extension": ".py",
   "mimetype": "text/x-python",
   "name": "python",
   "nbconvert_exporter": "python",
   "pygments_lexer": "ipython3",
   "version": "3.6.10"
  }
 },
 "nbformat": 4,
 "nbformat_minor": 4
}
