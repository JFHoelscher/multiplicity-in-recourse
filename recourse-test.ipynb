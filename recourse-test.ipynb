{
 "cells": [
  {
   "cell_type": "markdown",
   "metadata": {},
   "source": [
    "Test for using actionable-recorurse, provided on https://github.com/ustunb/actionable-recourse"
   ]
  },
  {
   "cell_type": "code",
   "execution_count": null,
   "metadata": {},
   "outputs": [],
   "source": []
  },
  {
   "cell_type": "code",
   "execution_count": 15,
   "metadata": {},
   "outputs": [],
   "source": [
    "import pandas as pd\n",
    "import numpy as np\n",
    "from sklearn.linear_model import LogisticRegression\n",
    "from sklearn.model_selection import cross_validate\n",
    "import recourse as rs\n",
    "from recourse.builder import ActionSet #FIX\n",
    "from recourse.flipset import Flipset #FIX\n",
    "from recourse.auditor import RecourseAuditor #FIX"
   ]
  },
  {
   "cell_type": "markdown",
   "metadata": {},
   "source": [
    "import data"
   ]
  },
  {
   "cell_type": "code",
   "execution_count": 4,
   "metadata": {},
   "outputs": [],
   "source": [
    "url = 'https://raw.githubusercontent.com/ustunb/actionable-recourse/master/examples/paper/data/credit_processed.csv'\n",
    "df = pd.read_csv(url, skipinitialspace=True)\n",
    "y, X = df.iloc[:, 0], df.iloc[:, 1:]"
   ]
  },
  {
   "cell_type": "markdown",
   "metadata": {},
   "source": [
    "NEW: Use Cross validation to train several different classifiers"
   ]
  },
  {
   "cell_type": "code",
   "execution_count": 20,
   "metadata": {},
   "outputs": [],
   "source": [
    "clf = LogisticRegression(max_iter=10000)\n",
    "cv = cross_validate(clf, X, y, cv=20, return_estimator=True)"
   ]
  },
  {
   "cell_type": "markdown",
   "metadata": {},
   "source": [
    "NEW: Select those classifiers that achieve performance within certain tolerance"
   ]
  },
  {
   "cell_type": "code",
   "execution_count": 33,
   "metadata": {},
   "outputs": [
    {
     "name": "stdout",
     "output_type": "stream",
     "text": [
      "0.826\n",
      "0.009025580929287106\n",
      "9\n"
     ]
    }
   ],
   "source": [
    "#X_test = X[:3]\n",
    "#for i, est in enumerate(scores['estimator']):\n",
    "#    print(scores['test_score'][i], est.predict(X_test))\n",
    "cv_scores = cv['test_score']\n",
    "tolerance = 2*np.std(cv_scores)\n",
    "good_classifiers = np.array(cv['estimator'])[cv_scores >= np.max(cv_scores) - tolerance]\n",
    "\n",
    "print(np.max(cv_scores))\n",
    "print(cv_scores.std())\n",
    "print(len(good_classifiers))"
   ]
  },
  {
   "cell_type": "markdown",
   "metadata": {},
   "source": [
    "train a classifier"
   ]
  },
  {
   "cell_type": "code",
   "execution_count": 5,
   "metadata": {},
   "outputs": [],
   "source": [
    "clf = LogisticRegression(max_iter=1000) #FIX\n",
    "clf.fit(X, y)\n",
    "yhat = clf.predict(X)"
   ]
  },
  {
   "cell_type": "markdown",
   "metadata": {},
   "source": [
    "customize the set of actions"
   ]
  },
  {
   "cell_type": "code",
   "execution_count": 4,
   "metadata": {},
   "outputs": [],
   "source": [
    "A = ActionSet(X)  ## matrix of features. ActionSet will learn default bounds and step-size."
   ]
  },
  {
   "cell_type": "markdown",
   "metadata": {},
   "source": [
    "specify immutable variables"
   ]
  },
  {
   "cell_type": "code",
   "execution_count": 5,
   "metadata": {},
   "outputs": [],
   "source": [
    "A['Married'].mutable = False"
   ]
  },
  {
   "cell_type": "markdown",
   "metadata": {},
   "source": [
    "can only specify properties for multiple variables using a list"
   ]
  },
  {
   "cell_type": "code",
   "execution_count": 6,
   "metadata": {},
   "outputs": [],
   "source": [
    "A[['Age_lt_25', 'Age_in_25_to_40', 'Age_in_40_to_59', 'Age_geq_60']].mutable = False"
   ]
  },
  {
   "cell_type": "markdown",
   "metadata": {},
   "source": [
    "education level"
   ]
  },
  {
   "cell_type": "code",
   "execution_count": 7,
   "metadata": {},
   "outputs": [],
   "source": [
    "A['EducationLevel'].step_direction = 1  ## force conditional immutability.\n",
    "A['EducationLevel'].step_size = 1  ## set step-size to a custom value.\n",
    "A['EducationLevel'].step_type = \"absolute\"  ## force conditional immutability.\n",
    "A['EducationLevel'].bounds = (0, 3)"
   ]
  },
  {
   "cell_type": "code",
   "execution_count": 8,
   "metadata": {},
   "outputs": [],
   "source": [
    "A['TotalMonthsOverdue'].step_size = 1  ## set step-size to a custom value.\n",
    "A['TotalMonthsOverdue'].step_type = \"absolute\"  ## discretize on absolute values of feature rather than percentile values\n",
    "A['TotalMonthsOverdue'].bounds = (0, 100)  ## set bounds to a custom value."
   ]
  },
  {
   "cell_type": "markdown",
   "metadata": {},
   "source": [
    "get model coefficients and align"
   ]
  },
  {
   "cell_type": "code",
   "execution_count": 9,
   "metadata": {},
   "outputs": [],
   "source": [
    "A.align(clf)  ## tells `ActionSet` which directions each feature should move in to produce positive change."
   ]
  },
  {
   "cell_type": "markdown",
   "metadata": {},
   "source": [
    "Get one individual"
   ]
  },
  {
   "cell_type": "code",
   "execution_count": 10,
   "metadata": {},
   "outputs": [],
   "source": [
    "i = np.flatnonzero(yhat <= 0)[0]"
   ]
  },
  {
   "cell_type": "markdown",
   "metadata": {},
   "source": [
    "build a flipset for one individual"
   ]
  },
  {
   "cell_type": "code",
   "execution_count": 11,
   "metadata": {},
   "outputs": [],
   "source": [
    "%%capture \n",
    "#discard the output of this cell (fs.populate prints way to much)\n",
    "fs = Flipset(x = [X.iloc[i]], action_set = A, clf = clf) #FIX\n",
    "fs.populate(enumeration_type = 'distinct_subsets', total_items = 10)"
   ]
  },
  {
   "cell_type": "code",
   "execution_count": 12,
   "metadata": {},
   "outputs": [
    {
     "name": "stdout",
     "output_type": "stream",
     "text": [
      "\\begin{tabular}{rlccc}\n",
      "\\toprule\n",
      " &          \\textsc{Feature Subset} &  \\textsc{Current Values} &               &  \\textsc{Required Values} \\\\\n",
      "0    &               \\textit{TotalMonthsOverdue} &                      7.0 &  $\\longrightarrow$ &                       3.0 \\\\\n",
      "1    &               \\textit{TotalMonthsOverdue} &                      7.0 &  $\\longrightarrow$ &                       4.0 \\\\\n",
      "1    &             \\textit{MostRecentBillAmount} &                   2010.0 &  $\\longrightarrow$ &                    1926.0 \\\\\n",
      "1    &     \\textit{MaxBillAmountOverLast6Months} &                   2060.0 &  $\\longrightarrow$ &                    2508.0 \\\\\n",
      "2    &               \\textit{TotalMonthsOverdue} &                      7.0 &  $\\longrightarrow$ &                       4.0 \\\\\n",
      "2    &          \\textit{MostRecentPaymentAmount} &                    100.0 &  $\\longrightarrow$ &                     105.0 \\\\\n",
      "2    &     \\textit{MaxBillAmountOverLast6Months} &                   2060.0 &  $\\longrightarrow$ &                    2508.0 \\\\\n",
      "3    &               \\textit{TotalMonthsOverdue} &                      7.0 &  $\\longrightarrow$ &                       4.0 \\\\\n",
      "3    &     \\textit{MaxBillAmountOverLast6Months} &                   2060.0 &  $\\longrightarrow$ &                    2622.0 \\\\\n",
      "4    &               \\textit{TotalMonthsOverdue} &                      7.0 &  $\\longrightarrow$ &                       4.0 \\\\\n",
      "4    &             \\textit{MostRecentBillAmount} &                   2010.0 &  $\\longrightarrow$ &                    1498.0 \\\\\n",
      "5    &  \\textit{MaxPaymentAmountOverLast6Months} &                    100.0 &  $\\longrightarrow$ &                     110.0 \\\\\n",
      "5    &               \\textit{TotalMonthsOverdue} &                      7.0 &  $\\longrightarrow$ &                       3.0 \\\\\n",
      "6    &               \\textit{TotalMonthsOverdue} &                      7.0 &  $\\longrightarrow$ &                       4.0 \\\\\n",
      "6    &     \\textit{MaxBillAmountOverLast6Months} &                   2060.0 &  $\\longrightarrow$ &                    2508.0 \\\\\n",
      "6    &  \\textit{MaxPaymentAmountOverLast6Months} &                    100.0 &  $\\longrightarrow$ &                     110.0 \\\\\n",
      "6    &             \\textit{MostRecentBillAmount} &                   2010.0 &  $\\longrightarrow$ &                    1926.0 \\\\\n",
      "7    &               \\textit{TotalMonthsOverdue} &                      7.0 &  $\\longrightarrow$ &                       4.0 \\\\\n",
      "7    &  \\textit{MaxPaymentAmountOverLast6Months} &                    100.0 &  $\\longrightarrow$ &                     110.0 \\\\\n",
      "7    &          \\textit{MostRecentPaymentAmount} &                    100.0 &  $\\longrightarrow$ &                     105.0 \\\\\n",
      "7    &     \\textit{MaxBillAmountOverLast6Months} &                   2060.0 &  $\\longrightarrow$ &                    2508.0 \\\\\n",
      "8    &  \\textit{MaxPaymentAmountOverLast6Months} &                    100.0 &  $\\longrightarrow$ &                     110.0 \\\\\n",
      "8    &     \\textit{MaxBillAmountOverLast6Months} &                   2060.0 &  $\\longrightarrow$ &                    2622.0 \\\\\n",
      "8    &               \\textit{TotalMonthsOverdue} &                      7.0 &  $\\longrightarrow$ &                       4.0 \\\\\n",
      "9    &               \\textit{TotalMonthsOverdue} &                      7.0 &  $\\longrightarrow$ &                       3.0 \\\\\n",
      "9    &          \\textit{MostRecentPaymentAmount} &                    100.0 &  $\\longrightarrow$ &                     105.0 \\\\\n",
      "\\bottomrule\n",
      "\\end{tabular}\n",
      "\n"
     ]
    }
   ],
   "source": [
    "print(fs.to_latex())"
   ]
  },
  {
   "cell_type": "markdown",
   "metadata": {},
   "source": [
    "Run Recourse Audit on Training Data"
   ]
  },
  {
   "cell_type": "code",
   "execution_count": 13,
   "metadata": {},
   "outputs": [
    {
     "data": {
      "application/vnd.jupyter.widget-view+json": {
       "model_id": "56d92af4cc9044338d5e637b2ea13aa2",
       "version_major": 2,
       "version_minor": 0
      },
      "text/plain": [
       "HBox(children=(FloatProgress(value=0.0, max=2938.0), HTML(value='')))"
      ]
     },
     "metadata": {},
     "output_type": "display_data"
    },
    {
     "name": "stdout",
     "output_type": "stream",
     "text": [
      "\n"
     ]
    }
   ],
   "source": [
    "auditor = RecourseAuditor(A, coefficients = clf.coef_[0], intercept = clf.intercept_[0])\n",
    "audit_df = auditor.audit(X)  ## matrix of features over which we will perform the audit."
   ]
  },
  {
   "cell_type": "markdown",
   "metadata": {},
   "source": [
    "print mean feasibility and cost of recourse"
   ]
  },
  {
   "cell_type": "code",
   "execution_count": 14,
   "metadata": {},
   "outputs": [
    {
     "name": "stdout",
     "output_type": "stream",
     "text": [
      "1.0\n",
      "0.04416156067534439\n"
     ]
    }
   ],
   "source": [
    "print(audit_df['feasible'].mean())\n",
    "print(audit_df['cost'].mean())"
   ]
  }
 ],
 "metadata": {
  "kernelspec": {
   "display_name": "Python 3",
   "language": "python",
   "name": "python3"
  },
  "language_info": {
   "codemirror_mode": {
    "name": "ipython",
    "version": 3
   },
   "file_extension": ".py",
   "mimetype": "text/x-python",
   "name": "python",
   "nbconvert_exporter": "python",
   "pygments_lexer": "ipython3",
   "version": "3.6.10"
  }
 },
 "nbformat": 4,
 "nbformat_minor": 4
}
