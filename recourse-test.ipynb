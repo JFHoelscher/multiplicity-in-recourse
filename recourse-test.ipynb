{
 "cells": [
  {
   "cell_type": "markdown",
   "metadata": {},
   "source": [
    "Test for using actionable-recourse, provided on https://github.com/ustunb/actionable-recourse\n",
    "\n",
    "In order to compare recourse for several similar classifiers, we use cross validation to fit several logistic regression models (Is this the right way?). In the next step, we want to check whether the flipsets generated for one of them apply also for the other classifiers."
   ]
  },
  {
   "cell_type": "code",
   "execution_count": 1,
   "metadata": {},
   "outputs": [],
   "source": [
    "import copy\n",
    "from tqdm.notebook import tqdm\n",
    "import pandas as pd\n",
    "import numpy as np\n",
    "from sklearn.linear_model import LogisticRegression\n",
    "from sklearn.model_selection import cross_validate\n",
    "from sklearn.model_selection import StratifiedKFold as CVGenerator\n",
    "from sklearn.model_selection import GridSearchCV\n",
    "import recourse as rs\n",
    "from recourse.builder import ActionSet #FIX\n",
    "from recourse.flipset import Flipset #FIX\n",
    "from recourse.auditor import RecourseAuditor #FIX"
   ]
  },
  {
   "cell_type": "markdown",
   "metadata": {},
   "source": [
    "import data"
   ]
  },
  {
   "cell_type": "code",
   "execution_count": 2,
   "metadata": {},
   "outputs": [
    {
     "name": "stdout",
     "output_type": "stream",
     "text": [
      "3000\n"
     ]
    }
   ],
   "source": [
    "url = 'https://raw.githubusercontent.com/ustunb/actionable-recourse/master/examples/paper/data/credit_processed.csv'\n",
    "df = pd.read_csv(url, skipinitialspace=True)\n",
    "n_data = len(df) # 30.000\n",
    "cut_factor = 0.1 # 1 -> full dataset considered (but randomly shuffled)\n",
    "idxs = np.random.choice(n_data, int((1-cut_factor)*n_data), replace = False)\n",
    "# randomly choose cut_factor * n samples to fasten analysis\n",
    "df = df.drop(idxs)\n",
    "y, X = df.iloc[:, 0], df.iloc[:, 1:]\n",
    "print(len(df))"
   ]
  },
  {
   "cell_type": "markdown",
   "metadata": {},
   "source": [
    "NEW: Use Cross validation to train several different classifiers (takes some time!)"
   ]
  },
  {
   "cell_type": "code",
   "execution_count": 3,
   "metadata": {},
   "outputs": [],
   "source": [
    "alter_C = True\n",
    "n_splits = 20\n",
    "if not alter_C:\n",
    "    clf = LogisticRegression(max_iter=10000)\n",
    "    cv = cross_validate(clf, X, y, cv=n_splits, return_estimator=True)\n",
    "    cv_scores = cv['test_score']\n",
    "    classifiers = np.array(cv['estimator'])"
   ]
  },
  {
   "cell_type": "markdown",
   "metadata": {},
   "source": [
    "Alternative: Use GridSearchCV on parameter C (takes some time!)"
   ]
  },
  {
   "cell_type": "code",
   "execution_count": 4,
   "metadata": {},
   "outputs": [
    {
     "name": "stdout",
     "output_type": "stream",
     "text": [
      "Fitting 10 folds for each of 20 candidates, totalling 200 fits\n"
     ]
    },
    {
     "name": "stderr",
     "output_type": "stream",
     "text": [
      "[Parallel(n_jobs=-1)]: Using backend LokyBackend with 4 concurrent workers.\n",
      "[Parallel(n_jobs=-1)]: Done  42 tasks      | elapsed:    7.6s\n",
      "[Parallel(n_jobs=-1)]: Done 192 tasks      | elapsed:   54.3s\n",
      "[Parallel(n_jobs=-1)]: Done 200 out of 200 | elapsed:   56.0s finished\n"
     ]
    }
   ],
   "source": [
    "if alter_C:\n",
    "    cv_generator = CVGenerator(n_splits = 10)\n",
    "    clf = LogisticRegression(max_iter=10000, solver='lbfgs')\n",
    "\n",
    "    # this code is for general purpose train/test evaluation using GridSearchCV\n",
    "    gridsearch = GridSearchCV(\n",
    "        clf, \n",
    "        param_grid={'C':np.logspace(-4, 3, num=n_splits)},\n",
    "        scoring='accuracy',\n",
    "        cv=cv_generator,\n",
    "        verbose=1,\n",
    "        n_jobs=-1\n",
    "    )\n",
    "\n",
    "    gridsearch.fit(X,y)\n",
    "    grid_search_df = pd.DataFrame(gridsearch.cv_results_)"
   ]
  },
  {
   "cell_type": "code",
   "execution_count": 5,
   "metadata": {},
   "outputs": [
    {
     "data": {
      "application/vnd.jupyter.widget-view+json": {
       "model_id": "bc5097e40cc74e6f97fe58399425cf27",
       "version_major": 2,
       "version_minor": 0
      },
      "text/plain": [
       "HBox(children=(FloatProgress(value=0.0, max=20.0), HTML(value='')))"
      ]
     },
     "metadata": {},
     "output_type": "display_data"
    },
    {
     "name": "stdout",
     "output_type": "stream",
     "text": [
      "\n"
     ]
    }
   ],
   "source": [
    "if alter_C:\n",
    "    # cache a model for each parameter combination, trained on all data\n",
    "    classifiers = []\n",
    "    classifier_Cs = []\n",
    "    for idx, p in tqdm(list(grid_search_df.params.iteritems())):\n",
    "        model = copy.deepcopy(clf.set_params(**p)).fit(X,y)\n",
    "        classifiers.append(model)\n",
    "        classifier_Cs.append(p.items())\n",
    "    cv_scores = grid_search_df['mean_test_score']\n",
    "    classifiers = np.array(classifiers)\n",
    "    # Is it inconsistent to consider score before fitting the whole train set? \n",
    "    # But otherwise, it would violate train-test splitting\n",
    "    # CV + fit is a bit of an overkill here?"
   ]
  },
  {
   "cell_type": "markdown",
   "metadata": {},
   "source": [
    "NEW: Select those classifiers that achieve performance within certain tolerance"
   ]
  },
  {
   "cell_type": "code",
   "execution_count": 6,
   "metadata": {},
   "outputs": [
    {
     "name": "stdout",
     "output_type": "stream",
     "text": [
      "0.7969999999999999\n",
      "0.005570809467990694\n",
      "15\n"
     ]
    }
   ],
   "source": [
    "#X_test = X[:3]\n",
    "#for i, est in enumerate(scores['estimator']):\n",
    "#    print(scores['test_score'][i], est.predict(X_test))\n",
    "tolerance = 1*np.std(cv_scores)\n",
    "good_classifiers = classifiers[cv_scores >= np.max(cv_scores) - tolerance]\n",
    "\n",
    "print(np.max(cv_scores))\n",
    "print(cv_scores.std())\n",
    "print(len(good_classifiers))"
   ]
  },
  {
   "cell_type": "markdown",
   "metadata": {},
   "source": [
    "get predictions"
   ]
  },
  {
   "cell_type": "code",
   "execution_count": 200,
   "metadata": {},
   "outputs": [],
   "source": [
    "yhat = [clf.predict(X) for clf in good_classifiers]\n",
    "yhat_ = np.array(yhat, dtype=int)"
   ]
  },
  {
   "cell_type": "markdown",
   "metadata": {},
   "source": [
    "NEW: Overview table for the classifiers"
   ]
  },
  {
   "cell_type": "code",
   "execution_count": 210,
   "metadata": {},
   "outputs": [
    {
     "name": "stdout",
     "output_type": "stream",
     "text": [
      "\\begin{tabular}{lrllr}\n",
      "\\toprule\n",
      "{} &         C &               coeffients &      predictions &  accuracy \\\\\n",
      "\\midrule\n",
      "0 &  0.002976 &   [[0.006, 0.032, -0.0]] &  [1, 1, 1, 1, 1] &  0.792667 \\\\\n",
      "1 &  0.006952 &   [[0.0, 0.022, -0.006]] &  [0, 1, 1, 1, 1] &  0.796667 \\\\\n",
      "2 &  0.016238 &  [[0.135, 0.104, 0.049]] &  [0, 0, 1, 1, 0] &  0.797000 \\\\\n",
      "3 &  0.037927 &  [[0.308, 0.368, 0.151]] &  [0, 0, 1, 0, 0] &  0.796000 \\\\\n",
      "4 &  0.088587 &   [[0.375, 0.436, 0.18]] &  [0, 0, 1, 0, 0] &  0.795000 \\\\\n",
      "\\bottomrule\n",
      "\\end{tabular}\n",
      "\n"
     ]
    },
    {
     "data": {
      "text/html": [
       "<div>\n",
       "<style scoped>\n",
       "    .dataframe tbody tr th:only-of-type {\n",
       "        vertical-align: middle;\n",
       "    }\n",
       "\n",
       "    .dataframe tbody tr th {\n",
       "        vertical-align: top;\n",
       "    }\n",
       "\n",
       "    .dataframe thead th {\n",
       "        text-align: right;\n",
       "    }\n",
       "</style>\n",
       "<table border=\"1\" class=\"dataframe\">\n",
       "  <thead>\n",
       "    <tr style=\"text-align: right;\">\n",
       "      <th></th>\n",
       "      <th>C</th>\n",
       "      <th>coeffients</th>\n",
       "      <th>predictions</th>\n",
       "      <th>accuracy</th>\n",
       "    </tr>\n",
       "  </thead>\n",
       "  <tbody>\n",
       "    <tr>\n",
       "      <th>0</th>\n",
       "      <td>0.002976</td>\n",
       "      <td>[[0.006, 0.032, -0.0]]</td>\n",
       "      <td>[1, 1, 1, 1, 1]</td>\n",
       "      <td>0.792667</td>\n",
       "    </tr>\n",
       "    <tr>\n",
       "      <th>1</th>\n",
       "      <td>0.006952</td>\n",
       "      <td>[[0.0, 0.022, -0.006]]</td>\n",
       "      <td>[0, 1, 1, 1, 1]</td>\n",
       "      <td>0.796667</td>\n",
       "    </tr>\n",
       "    <tr>\n",
       "      <th>2</th>\n",
       "      <td>0.016238</td>\n",
       "      <td>[[0.135, 0.104, 0.049]]</td>\n",
       "      <td>[0, 0, 1, 1, 0]</td>\n",
       "      <td>0.797000</td>\n",
       "    </tr>\n",
       "    <tr>\n",
       "      <th>3</th>\n",
       "      <td>0.037927</td>\n",
       "      <td>[[0.308, 0.368, 0.151]]</td>\n",
       "      <td>[0, 0, 1, 0, 0]</td>\n",
       "      <td>0.796000</td>\n",
       "    </tr>\n",
       "    <tr>\n",
       "      <th>4</th>\n",
       "      <td>0.088587</td>\n",
       "      <td>[[0.375, 0.436, 0.18]]</td>\n",
       "      <td>[0, 0, 1, 0, 0]</td>\n",
       "      <td>0.795000</td>\n",
       "    </tr>\n",
       "    <tr>\n",
       "      <th>5</th>\n",
       "      <td>0.206914</td>\n",
       "      <td>[[0.409, 0.47, 0.201]]</td>\n",
       "      <td>[0, 0, 1, 0, 0]</td>\n",
       "      <td>0.793000</td>\n",
       "    </tr>\n",
       "    <tr>\n",
       "      <th>6</th>\n",
       "      <td>0.483293</td>\n",
       "      <td>[[0.442, 0.495, 0.222]]</td>\n",
       "      <td>[0, 0, 0, 1, 0]</td>\n",
       "      <td>0.794000</td>\n",
       "    </tr>\n",
       "    <tr>\n",
       "      <th>7</th>\n",
       "      <td>2.636651</td>\n",
       "      <td>[[0.383, 0.428, 0.173]]</td>\n",
       "      <td>[0, 0, 1, 0, 0]</td>\n",
       "      <td>0.794000</td>\n",
       "    </tr>\n",
       "    <tr>\n",
       "      <th>8</th>\n",
       "      <td>6.158482</td>\n",
       "      <td>[[0.42, 0.495, 0.203]]</td>\n",
       "      <td>[0, 0, 1, 1, 0]</td>\n",
       "      <td>0.793333</td>\n",
       "    </tr>\n",
       "    <tr>\n",
       "      <th>9</th>\n",
       "      <td>14.384499</td>\n",
       "      <td>[[0.421, 0.492, 0.208]]</td>\n",
       "      <td>[0, 0, 1, 0, 0]</td>\n",
       "      <td>0.794000</td>\n",
       "    </tr>\n",
       "    <tr>\n",
       "      <th>10</th>\n",
       "      <td>33.598183</td>\n",
       "      <td>[[0.435, 0.493, 0.216]]</td>\n",
       "      <td>[0, 0, 1, 0, 0]</td>\n",
       "      <td>0.792333</td>\n",
       "    </tr>\n",
       "    <tr>\n",
       "      <th>11</th>\n",
       "      <td>78.475997</td>\n",
       "      <td>[[0.43, 0.499, 0.206]]</td>\n",
       "      <td>[0, 0, 1, 0, 0]</td>\n",
       "      <td>0.794333</td>\n",
       "    </tr>\n",
       "    <tr>\n",
       "      <th>12</th>\n",
       "      <td>183.298071</td>\n",
       "      <td>[[0.424, 0.483, 0.208]]</td>\n",
       "      <td>[0, 0, 1, 0, 0]</td>\n",
       "      <td>0.792667</td>\n",
       "    </tr>\n",
       "    <tr>\n",
       "      <th>13</th>\n",
       "      <td>428.133240</td>\n",
       "      <td>[[0.439, 0.489, 0.215]]</td>\n",
       "      <td>[0, 0, 0, 0, 0]</td>\n",
       "      <td>0.793333</td>\n",
       "    </tr>\n",
       "    <tr>\n",
       "      <th>14</th>\n",
       "      <td>1000.000000</td>\n",
       "      <td>[[0.449, 0.487, 0.222]]</td>\n",
       "      <td>[0, 0, 0, 0, 0]</td>\n",
       "      <td>0.792667</td>\n",
       "    </tr>\n",
       "  </tbody>\n",
       "</table>\n",
       "</div>"
      ],
      "text/plain": [
       "              C               coeffients      predictions  accuracy\n",
       "0      0.002976   [[0.006, 0.032, -0.0]]  [1, 1, 1, 1, 1]  0.792667\n",
       "1      0.006952   [[0.0, 0.022, -0.006]]  [0, 1, 1, 1, 1]  0.796667\n",
       "2      0.016238  [[0.135, 0.104, 0.049]]  [0, 0, 1, 1, 0]  0.797000\n",
       "3      0.037927  [[0.308, 0.368, 0.151]]  [0, 0, 1, 0, 0]  0.796000\n",
       "4      0.088587   [[0.375, 0.436, 0.18]]  [0, 0, 1, 0, 0]  0.795000\n",
       "5      0.206914   [[0.409, 0.47, 0.201]]  [0, 0, 1, 0, 0]  0.793000\n",
       "6      0.483293  [[0.442, 0.495, 0.222]]  [0, 0, 0, 1, 0]  0.794000\n",
       "7      2.636651  [[0.383, 0.428, 0.173]]  [0, 0, 1, 0, 0]  0.794000\n",
       "8      6.158482   [[0.42, 0.495, 0.203]]  [0, 0, 1, 1, 0]  0.793333\n",
       "9     14.384499  [[0.421, 0.492, 0.208]]  [0, 0, 1, 0, 0]  0.794000\n",
       "10    33.598183  [[0.435, 0.493, 0.216]]  [0, 0, 1, 0, 0]  0.792333\n",
       "11    78.475997   [[0.43, 0.499, 0.206]]  [0, 0, 1, 0, 0]  0.794333\n",
       "12   183.298071  [[0.424, 0.483, 0.208]]  [0, 0, 1, 0, 0]  0.792667\n",
       "13   428.133240  [[0.439, 0.489, 0.215]]  [0, 0, 0, 0, 0]  0.793333\n",
       "14  1000.000000  [[0.449, 0.487, 0.222]]  [0, 0, 0, 0, 0]  0.792667"
      ]
     },
     "execution_count": 210,
     "metadata": {},
     "output_type": "execute_result"
    }
   ],
   "source": [
    "overview = pd.DataFrame()\n",
    "good_Cs = [] # Collect C values of good classifiers in list; MAYDO: Already care for this when creating classifier_Cs\n",
    "for i in np.flatnonzero(cv_scores >= np.max(cv_scores) - tolerance):\n",
    "    for key, value in list(classifier_Cs[i]): # classifier_Cs is of type dict_items -> not subscriptable\n",
    "        if key == 'C':\n",
    "            good_Cs.append(value)\n",
    "overview['C'] = good_Cs\n",
    "overview['coeffients'] = [np.around(clf.coef_, decimals = 3)[:,:3] for clf in good_classifiers]\n",
    "overview['predictions'] =  [yhat_[j_clf,np.all(np.array([np.any(yhat_, axis=0),\\\n",
    "                                                        np.any(np.logical_not(yhat_), axis = 0)]), axis=0)][:5] for j_clf in range(len(good_classifiers))]\n",
    "overview['accuracy'] = np.array(cv_scores[cv_scores >= np.max(cv_scores) - tolerance])\n",
    "\n",
    "print(overview.iloc[:5].to_latex())\n",
    "overview"
   ]
  },
  {
   "cell_type": "code",
   "execution_count": 199,
   "metadata": {},
   "outputs": [
    {
     "data": {
      "text/plain": [
       "(15, 141)"
      ]
     },
     "execution_count": 199,
     "metadata": {},
     "output_type": "execute_result"
    }
   ],
   "source": [
    "yhat_[:,np.all([np.any(yhat_, axis=0),\\\n",
    "                np.any(np.logical_not(yhat_), axis=0)], axis=0)].shape"
   ]
  },
  {
   "cell_type": "code",
   "execution_count": 195,
   "metadata": {},
   "outputs": [
    {
     "name": "stdout",
     "output_type": "stream",
     "text": [
      "[[ True False  True False]\n",
      " [ True  True False False]]\n",
      "[[ True  True  True False]\n",
      " [False  True  True  True]]\n",
      "[[False  True]\n",
      " [ True False]]\n"
     ]
    }
   ],
   "source": [
    "A = np.array([[True, False, True, False],[True, True, False, False]])\n",
    "print(A)\n",
    "B = np.array([np.any(A, axis=0), np.any(np.logical_not(A), axis = 0)])\n",
    "print(B)\n",
    "C = np.all(B, axis=0)\n",
    "print(A[:,C])"
   ]
  },
  {
   "cell_type": "markdown",
   "metadata": {},
   "source": [
    "relative amount of individuals where not all classifiers predict the same"
   ]
  },
  {
   "cell_type": "code",
   "execution_count": 196,
   "metadata": {},
   "outputs": [
    {
     "data": {
      "text/plain": [
       "0.047"
      ]
     },
     "execution_count": 196,
     "metadata": {},
     "output_type": "execute_result"
    }
   ],
   "source": [
    "np.mean(np.all([np.any(yhat_, axis=0),\\\n",
    "        np.any(np.logical_not(yhat_), axis=0)], axis=0))"
   ]
  },
  {
   "cell_type": "markdown",
   "metadata": {},
   "source": [
    "customize the set of actions and align"
   ]
  },
  {
   "cell_type": "code",
   "execution_count": 8,
   "metadata": {},
   "outputs": [],
   "source": [
    "action_sets=[]\n",
    "for clf in good_classifiers:\n",
    "    ## matrix of features. ActionSet will learn default bounds and step-size.\n",
    "    A = ActionSet(X)\n",
    "    ## specify immutable variables\n",
    "    A['Married'].mutable = False \n",
    "    ## can only specify properties for multiple variables using a list\n",
    "    A[['Age_lt_25', 'Age_in_25_to_40', 'Age_in_40_to_59', 'Age_geq_60']].mutable = False \n",
    "    A['EducationLevel'].step_direction = 1  ## force conditional immutability.\n",
    "    A['EducationLevel'].step_size = 1  ## set step-size to a custom value.\n",
    "    A['EducationLevel'].step_type = \"absolute\"  ## force conditional immutability.\n",
    "    A['EducationLevel'].bounds = (0, 3)\n",
    "    A['TotalMonthsOverdue'].step_size = 1  ## set step-size to a custom value.\n",
    "    A['TotalMonthsOverdue'].step_type = \"absolute\"  ## discretize on absolute values of feature rather than percentile values\n",
    "    A['TotalMonthsOverdue'].bounds = (0, 100)  ## set bounds to a custom value.\n",
    "    \n",
    "    ## tells `ActionSet` which directions each feature should move in to produce positive change.\n",
    "    A.align(clf)\n",
    "    action_sets.append(A)"
   ]
  },
  {
   "cell_type": "markdown",
   "metadata": {},
   "source": [
    "print some flipset"
   ]
  },
  {
   "cell_type": "code",
   "execution_count": 167,
   "metadata": {},
   "outputs": [],
   "source": [
    "%%capture\n",
    "j_clf = np.random.randint(len(good_classifiers))\n",
    "i = np.random.randint(len(X.iloc[np.flatnonzero(yhat[j_clf] <= 0)]))\n",
    "print(j_clf, i)\n",
    "fs = Flipset(x = X.iloc[np.flatnonzero(yhat[j_clf] <= 0)].to_numpy()[i,:],\\\n",
    "             action_set = action_sets[j_clf], clf = good_classifiers[j_clf])\n",
    "fs.populate(enumeration_type = 'distinct_subsets', total_items = 10)"
   ]
  },
  {
   "cell_type": "code",
   "execution_count": 168,
   "metadata": {},
   "outputs": [
    {
     "data": {
      "text/plain": [
       "'\\\\begin{tabular}{rlccc}\\n\\\\toprule\\n &               \\\\textsc{Feature Subset} &  \\\\textsc{Current Values} &               &  \\\\textsc{Required Values} \\\\\\\\\\n0    &                    \\\\textit{TotalMonthsOverdue} &                     10.0 &  $\\\\longrightarrow$ &                       8.0 \\\\\\\\\\n1    &          \\\\textit{MaxBillAmountOverLast6Months} &                   2810.0 &  $\\\\longrightarrow$ &                    2880.0 \\\\\\\\\\n1    &                    \\\\textit{TotalMonthsOverdue} &                     10.0 &  $\\\\longrightarrow$ &                       8.0 \\\\\\\\\\n2    &                  \\\\textit{MostRecentBillAmount} &                   2690.0 &  $\\\\longrightarrow$ &                    2756.0 \\\\\\\\\\n2    &                    \\\\textit{TotalMonthsOverdue} &                     10.0 &  $\\\\longrightarrow$ &                       8.0 \\\\\\\\\\n3    &                    \\\\textit{TotalMonthsOverdue} &                     10.0 &  $\\\\longrightarrow$ &                       8.0 \\\\\\\\\\n3    &                  \\\\textit{MostRecentBillAmount} &                   2690.0 &  $\\\\longrightarrow$ &                    2756.0 \\\\\\\\\\n3    &          \\\\textit{MaxBillAmountOverLast6Months} &                   2810.0 &  $\\\\longrightarrow$ &                    2880.0 \\\\\\\\\\n4    &                    \\\\textit{TotalMonthsOverdue} &                     10.0 &  $\\\\longrightarrow$ &                       8.0 \\\\\\\\\\n4    &               \\\\textit{MostRecentPaymentAmount} &                    140.0 &  $\\\\longrightarrow$ &                     154.0 \\\\\\\\\\n5    &                    \\\\textit{TotalMonthsOverdue} &                     10.0 &  $\\\\longrightarrow$ &                       9.0 \\\\\\\\\\n5    &  \\\\textit{MonthsWithLowSpendingOverLast6Months} &                      0.0 &  $\\\\longrightarrow$ &                       2.0 \\\\\\\\\\n6    &       \\\\textit{MaxPaymentAmountOverLast6Months} &                    140.0 &  $\\\\longrightarrow$ &                     183.0 \\\\\\\\\\n6    &                    \\\\textit{TotalMonthsOverdue} &                     10.0 &  $\\\\longrightarrow$ &                       8.0 \\\\\\\\\\n7    &          \\\\textit{MaxBillAmountOverLast6Months} &                   2810.0 &  $\\\\longrightarrow$ &                    2880.0 \\\\\\\\\\n7    &               \\\\textit{MostRecentPaymentAmount} &                    140.0 &  $\\\\longrightarrow$ &                     154.0 \\\\\\\\\\n7    &                    \\\\textit{TotalMonthsOverdue} &                     10.0 &  $\\\\longrightarrow$ &                       8.0 \\\\\\\\\\n8    &          \\\\textit{MaxBillAmountOverLast6Months} &                   2810.0 &  $\\\\longrightarrow$ &                    2880.0 \\\\\\\\\\n8    &  \\\\textit{MonthsWithLowSpendingOverLast6Months} &                      0.0 &  $\\\\longrightarrow$ &                       2.0 \\\\\\\\\\n8    &                    \\\\textit{TotalMonthsOverdue} &                     10.0 &  $\\\\longrightarrow$ &                       9.0 \\\\\\\\\\n9    &               \\\\textit{MostRecentPaymentAmount} &                    140.0 &  $\\\\longrightarrow$ &                     154.0 \\\\\\\\\\n9    &                  \\\\textit{MostRecentBillAmount} &                   2690.0 &  $\\\\longrightarrow$ &                    2756.0 \\\\\\\\\\n9    &                    \\\\textit{TotalMonthsOverdue} &                     10.0 &  $\\\\longrightarrow$ &                       8.0 \\\\\\\\\\n\\\\bottomrule\\n\\\\end{tabular}\\n'"
      ]
     },
     "execution_count": 168,
     "metadata": {},
     "output_type": "execute_result"
    }
   ],
   "source": [
    "fs.to_latex()"
   ]
  },
  {
   "cell_type": "markdown",
   "metadata": {},
   "source": [
    "NEW: change inputs according to flipsets (takes some time!)"
   ]
  },
  {
   "cell_type": "markdown",
   "metadata": {},
   "source": [
    "**TODO:** Use only negatively predicted datapoints; Make whole thing more sound"
   ]
  },
  {
   "cell_type": "code",
   "execution_count": 39,
   "metadata": {},
   "outputs": [],
   "source": [
    "%%capture\n",
    "X_new = [copy.deepcopy(X.iloc[np.flatnonzero(yhat[j_clf] <= 0)]).to_numpy() for j_clf in range(len(good_classifiers))]\n",
    "# X_new[clf that generated flipset][datapoint, feature]\n",
    "k_fs = 0 # k-th flipset is applied; MAYDO later: iterate k_fs?\n",
    "for j_clf, clf in enumerate(good_classifiers):\n",
    "    print(\"Apply flipsets of classifier\", j_clf)\n",
    "    for i in range(X_new[j_clf].shape[0]):\n",
    "        fs = Flipset(x = X_new[j_clf][i, :], action_set = action_sets[j_clf], clf = clf)\n",
    "        fs.populate(enumeration_type = 'distinct_subsets', total_items = k_fs+1)\n",
    "        X_new[j_clf][i, fs._df['feature_idx'][k_fs]] = fs._df['x_new'][k_fs]"
   ]
  },
  {
   "cell_type": "code",
   "execution_count": 45,
   "metadata": {},
   "outputs": [
    {
     "name": "stdout",
     "output_type": "stream",
     "text": [
      "[238, 255, 300, 306, 313, 322, 321, 317, 324, 329, 325, 328, 318, 322, 324]\n"
     ]
    }
   ],
   "source": [
    "print([len(X_new[i]) for i in range(len(good_classifiers))])"
   ]
  },
  {
   "cell_type": "markdown",
   "metadata": {},
   "source": [
    "NEW: Measure for how many individuals the adjusted input leads to desirable outcomes for each classifier"
   ]
  },
  {
   "cell_type": "code",
   "execution_count": 42,
   "metadata": {},
   "outputs": [],
   "source": [
    "yhat_new = [[clf_pred.predict(X_new[j_fs]) for clf_pred in good_classifiers] \\\n",
    "            for j_fs in range(len(good_classifiers))] \n",
    "# yhat_new[clf that generated flipset][clf that predicted outcome][datapoint]\n",
    "# the datapoint dimension has different lengths!"
   ]
  },
  {
   "cell_type": "code",
   "execution_count": 44,
   "metadata": {},
   "outputs": [
    {
     "name": "stdout",
     "output_type": "stream",
     "text": [
      "[[238, 255, 300, 306, 313, 322, 321, 317, 324, 329, 325, 328, 318, 322, 324], [238, 255, 300, 306, 313, 322, 321, 317, 324, 329, 325, 328, 318, 322, 324], [238, 255, 300, 306, 313, 322, 321, 317, 324, 329, 325, 328, 318, 322, 324], [238, 255, 300, 306, 313, 322, 321, 317, 324, 329, 325, 328, 318, 322, 324], [238, 255, 300, 306, 313, 322, 321, 317, 324, 329, 325, 328, 318, 322, 324], [238, 255, 300, 306, 313, 322, 321, 317, 324, 329, 325, 328, 318, 322, 324], [238, 255, 300, 306, 313, 322, 321, 317, 324, 329, 325, 328, 318, 322, 324], [238, 255, 300, 306, 313, 322, 321, 317, 324, 329, 325, 328, 318, 322, 324], [238, 255, 300, 306, 313, 322, 321, 317, 324, 329, 325, 328, 318, 322, 324], [238, 255, 300, 306, 313, 322, 321, 317, 324, 329, 325, 328, 318, 322, 324], [238, 255, 300, 306, 313, 322, 321, 317, 324, 329, 325, 328, 318, 322, 324], [238, 255, 300, 306, 313, 322, 321, 317, 324, 329, 325, 328, 318, 322, 324], [238, 255, 300, 306, 313, 322, 321, 317, 324, 329, 325, 328, 318, 322, 324], [238, 255, 300, 306, 313, 322, 321, 317, 324, 329, 325, 328, 318, 322, 324], [238, 255, 300, 306, 313, 322, 321, 317, 324, 329, 325, 328, 318, 322, 324]]\n"
     ]
    }
   ],
   "source": [
    "print([[len(yhat_new[i][j]) for i in range(len(good_classifiers))] for j in range(len(good_classifiers))])"
   ]
  },
  {
   "cell_type": "code",
   "execution_count": 145,
   "metadata": {},
   "outputs": [],
   "source": [
    "flip_accuracy = [[yhat_new[i_fs][j_pred].mean() for j_pred in range(len(good_classifiers))] \\\n",
    "                 for i_fs in range(len(good_classifiers))]\n",
    "# flip_accuracy[clf that generared][clf that evaluated]"
   ]
  },
  {
   "cell_type": "markdown",
   "metadata": {},
   "source": [
    "Not necessary: Some example to see change"
   ]
  },
  {
   "cell_type": "code",
   "execution_count": 54,
   "metadata": {},
   "outputs": [
    {
     "name": "stdout",
     "output_type": "stream",
     "text": [
      "     Married  Single  Age_lt_25  Age_in_25_to_40  Age_in_40_to_59  ...  \\\n",
      "50         0       1          0                0                1  ...   \n",
      "62         0       1          0                1                0  ...   \n",
      "71         0       1          0                1                0  ...   \n",
      "513        0       1          1                0                0  ...   \n",
      "\n",
      "     MostRecentBillAmount  MostRecentPaymentAmount  TotalOverdueCounts  \\\n",
      "50                   1130                        0                   1   \n",
      "62                    760                        0                   1   \n",
      "71                   1780                       80                   1   \n",
      "513                   900                       60                   1   \n",
      "\n",
      "     TotalMonthsOverdue  HistoryOfOverduePayments  \n",
      "50                    9                         1  \n",
      "62                   12                         1  \n",
      "71                   12                         1  \n",
      "513                  12                         1  \n",
      "\n",
      "[4 rows x 17 columns]\n",
      "[[   0    1    0    0    1    0    1 1200   90    0    0    0 1130    0\n",
      "     1    7    1]\n",
      " [   0    1    0    1    0    0    3  860   80    0    0    0  760    0\n",
      "     1    6    1]\n",
      " [   0    1    0    1    0    0    2 1940  150    0    6    0 1780   80\n",
      "     1    8    1]\n",
      " [   0    1    1    0    0    0    2 1010   60    0    0    0  900   60\n",
      "     1    7    1]]\n",
      "after [1. 1. 1. 1. 1. 1. 1. 1. 1. 1.]\n",
      "befor [0. 0. 0. 0. 0. 0. 0. 0. 0. 0.]\n",
      "after [1. 1. 1. 1. 0. 1. 1. 1. 0. 1.]\n",
      "befor [0. 0. 0. 0. 0. 0. 0. 0. 0. 0.]\n",
      "after [1. 1. 1. 0. 0. 0. 1. 1. 1. 0.]\n",
      "befor [0. 0. 0. 0. 0. 0. 0. 0. 0. 0.]\n",
      "after [0. 1. 1. 0. 0. 0. 1. 0. 1. 0.]\n",
      "befor [0. 0. 0. 0. 0. 0. 0. 0. 0. 0.]\n",
      "after [1. 1. 1. 0. 0. 0. 1. 0. 1. 0.]\n",
      "befor [0. 0. 0. 0. 0. 0. 0. 0. 0. 0.]\n",
      "after [1. 1. 1. 0. 0. 0. 1. 0. 1. 0.]\n",
      "befor [0. 0. 0. 0. 0. 0. 0. 0. 0. 0.]\n",
      "after [1. 1. 1. 0. 0. 0. 1. 1. 1. 0.]\n",
      "befor [0. 0. 0. 0. 0. 0. 0. 0. 0. 0.]\n",
      "after [0. 1. 1. 0. 0. 0. 1. 0. 1. 0.]\n",
      "befor [0. 0. 0. 0. 0. 0. 0. 0. 0. 0.]\n",
      "after [1. 1. 1. 0. 0. 0. 1. 0. 1. 0.]\n",
      "befor [0. 0. 0. 0. 0. 0. 0. 0. 0. 0.]\n",
      "after [1. 1. 1. 0. 0. 0. 1. 0. 1. 0.]\n",
      "befor [0. 0. 0. 0. 0. 0. 0. 0. 0. 0.]\n",
      "after [1. 1. 1. 0. 0. 0. 1. 0. 1. 0.]\n",
      "befor [0. 0. 0. 0. 0. 0. 0. 0. 0. 0.]\n",
      "after [1. 1. 1. 0. 0. 0. 1. 0. 1. 0.]\n",
      "befor [0. 0. 0. 0. 0. 0. 0. 0. 0. 0.]\n",
      "after [1. 1. 1. 0. 0. 0. 1. 0. 1. 0.]\n",
      "befor [0. 0. 0. 0. 0. 0. 0. 0. 0. 0.]\n",
      "after [1. 1. 1. 0. 0. 0. 1. 0. 1. 0.]\n",
      "befor [0. 0. 0. 0. 0. 0. 0. 0. 0. 0.]\n",
      "after [1. 1. 1. 0. 0. 0. 1. 0. 1. 0.]\n",
      "befor [0. 0. 0. 0. 0. 0. 0. 0. 0. 0.]\n"
     ]
    }
   ],
   "source": [
    "print(X.iloc[np.flatnonzero(yhat[0] <= 0)][:4])\n",
    "print(X_new[0][:4])\n",
    "for j_clf in range(len(good_classifiers)):\n",
    "    print(\"after\", yhat_new[0][j_clf][:10])\n",
    "    print(\"befor\", yhat[j_clf][np.flatnonzero(yhat[0] <= 0)][:10])"
   ]
  },
  {
   "cell_type": "markdown",
   "metadata": {},
   "source": [
    "Not necessary: Which features have changed, examplary for clf 0"
   ]
  },
  {
   "cell_type": "code",
   "execution_count": 56,
   "metadata": {},
   "outputs": [
    {
     "name": "stdout",
     "output_type": "stream",
     "text": [
      "Married                                  0.000000\n",
      "Single                                   0.000000\n",
      "Age_lt_25                                0.000000\n",
      "Age_in_25_to_40                          0.000000\n",
      "Age_in_40_to_59                          0.000000\n",
      "Age_geq_60                               0.000000\n",
      "EducationLevel                           0.000000\n",
      "MaxBillAmountOverLast6Months             0.037815\n",
      "MaxPaymentAmountOverLast6Months          0.126050\n",
      "MonthsWithZeroBalanceOverLast6Months     0.008403\n",
      "MonthsWithLowSpendingOverLast6Months     0.084034\n",
      "MonthsWithHighSpendingOverLast6Months    0.029412\n",
      "MostRecentBillAmount                     0.197479\n",
      "MostRecentPaymentAmount                  0.016807\n",
      "TotalOverdueCounts                       0.025210\n",
      "TotalMonthsOverdue                       0.936975\n",
      "HistoryOfOverduePayments                 0.000000\n",
      "dtype: float64\n"
     ]
    }
   ],
   "source": [
    "print((X.iloc[np.flatnonzero(yhat[0] <= 0)]!=X_new[0]).mean(axis=0))"
   ]
  },
  {
   "cell_type": "code",
   "execution_count": 146,
   "metadata": {},
   "outputs": [],
   "source": [
    "# in dataframe speichern\n",
    "results = pd.DataFrame(data={'i_clf': np.arange(len(good_classifiers))})\n",
    "results['C_value'] = good_Cs\n",
    "results['CV_accuracy'] = np.asarray(cv_scores)[cv_scores >= np.max(cv_scores) - tolerance]\n",
    "results['fr_generating'] = flip_accuracy\n",
    "results['fr_evaluating'] = [[flip_accuracy[i_fs][j_pred] for i_fs in range(len(good_classifiers))]\\\n",
    "                           for j_pred in range(len(good_classifiers))] #flip_accuracy.T\n"
   ]
  },
  {
   "cell_type": "markdown",
   "metadata": {},
   "source": [
    "**TODO:** labels etc. for figures. What is a good name for flip_accuracy?"
   ]
  },
  {
   "cell_type": "code",
   "execution_count": 121,
   "metadata": {},
   "outputs": [
    {
     "data": {
      "image/png": "[encoded data removed]",
      "text/plain": [
       "<Figure size 432x288 with 2 Axes>"
      ]
     },
     "metadata": {},
     "output_type": "display_data"
    }
   ],
   "source": [
    "# graphisch reprsentieren?\n",
    "import seaborn as sns\n",
    "sns.set()\n",
    "sns.heatmap(flip_accuracy)\n",
    "plt.title(\"Robustness of flipsets\")\n",
    "plt.xlabel(\"Classifier used to evaluate\")\n",
    "plt.ylabel(\"Classifier used for creating flipsets\")\n",
    "plt.savefig(\"heatmap_flip_accuracy.svg\")"
   ]
  },
  {
   "cell_type": "code",
   "execution_count": 144,
   "metadata": {},
   "outputs": [
    {
     "name": "stdout",
     "output_type": "stream",
     "text": [
      "[1.0, 0.6134453781512605, 0.5336134453781513, 0.5126050420168067, 0.5126050420168067, 0.4957983193277311, 0.47058823529411764, 0.5084033613445378, 0.5084033613445378, 0.48739495798319327, 0.4957983193277311, 0.4831932773109244, 0.47478991596638653, 0.5294117647058824, 0.47478991596638653]\n"
     ]
    }
   ],
   "source": [
    "print(flip_accuracy[0])"
   ]
  },
  {
   "cell_type": "code",
   "execution_count": 149,
   "metadata": {},
   "outputs": [
    {
     "data": {
      "image/png": "[encoded data removed]",
      "text/plain": [
       "<Figure size 432x288 with 1 Axes>"
      ]
     },
     "metadata": {},
     "output_type": "display_data"
    }
   ],
   "source": [
    "import matplotlib.pyplot as plt\n",
    "x_scatter = np.repeat([np.log(x) for x in good_Cs], len(good_classifiers))\n",
    "plt.scatter(x_scatter, np.array(flip_accuracy).flatten())\n",
    "plt.title(\"Robustness of flipsets\")\n",
    "plt.xlabel(\"C parameter of classifier used to create flipsets\")\n",
    "plt.ylabel(\"Relative amount of flipsets\\n that hold for other classifiers\")\n",
    "plt.savefig(\"scatter_flip_accuracy.svg\")"
   ]
  },
  {
   "cell_type": "code",
   "execution_count": 148,
   "metadata": {},
   "outputs": [
    {
     "data": {
      "image/png": "[encoded data removed]",
      "text/plain": [
       "<Figure size 432x288 with 1 Axes>"
      ]
     },
     "metadata": {},
     "output_type": "display_data"
    }
   ],
   "source": [
    "x_scatter = np.tile([np.log(x) for x in good_Cs], len(good_classifiers))\n",
    "plt.scatter(x_scatter, np.array(flip_accuracy).flatten())\n",
    "plt.title(\"Robustness of flipsets\")\n",
    "plt.xlabel(\"C parameter of classifier used to evaluate\")\n",
    "plt.ylabel(\"Relative amount of flipsets generated\\n by other classifier that hold\")\n",
    "plt.savefig(\"scatter_flip_accuracy_by_clf_pred.svg\")"
   ]
  },
  {
   "cell_type": "code",
   "execution_count": 129,
   "metadata": {},
   "outputs": [
    {
     "data": {
      "image/png": "[encoded data removed]",
      "text/plain": [
       "<Figure size 432x288 with 1 Axes>"
      ]
     },
     "metadata": {},
     "output_type": "display_data"
    }
   ],
   "source": [
    "plt.hist(np.array(flip_accuracy).flatten(), bins=30, density=False, histtype='bar', facecolor = 'green', alpha = 0.9)\n",
    "plt.title(\"Distribution of flipset robustness\")\n",
    "plt.xlabel(\"Relative amount of flipsets\\n that hold for other classifiers\")\n",
    "plt.ylabel(\"Frequency among all \" + str(len(good_classifiers)**2) + \"\\n combinations of classifiers\")\n",
    "plt.savefig(\"histogram_flip_accuracy.svg\")\n",
    "plt.show()"
   ]
  },
  {
   "cell_type": "markdown",
   "metadata": {},
   "source": [
    "**TODO!:** Why are flipsets not perfect, i. e. diagonal of flip_accuracy has enties < 1??!!"
   ]
  },
  {
   "cell_type": "code",
   "execution_count": 98,
   "metadata": {},
   "outputs": [
    {
     "name": "stdout",
     "output_type": "stream",
     "text": [
      "[1.0, 1.0, 1.0, 0.9934640522875817, 1.0, 1.0, 1.0, 1.0, 0.9969135802469136, 1.0, 0.9969230769230769, 0.9939024390243902, 0.9968553459119497, 0.9968944099378882, 0.9969135802469136]\n"
     ]
    }
   ],
   "source": [
    "print([flip_accuracy[i][i] for i in range(len(good_classifiers))])"
   ]
  },
  {
   "cell_type": "markdown",
   "metadata": {},
   "source": [
    "Run Recourse Audit for each classifier on Training Data (Takes some time!)"
   ]
  },
  {
   "cell_type": "code",
   "execution_count": 117,
   "metadata": {},
   "outputs": [
    {
     "data": {
      "application/vnd.jupyter.widget-view+json": {
       "model_id": "c891301536dc46b29a8bba4b2b455745",
       "version_major": 2,
       "version_minor": 0
      },
      "text/plain": [
       "HBox(children=(FloatProgress(value=0.0, max=237.0), HTML(value='')))"
      ]
     },
     "metadata": {},
     "output_type": "display_data"
    },
    {
     "name": "stdout",
     "output_type": "stream",
     "text": [
      "\n"
     ]
    },
    {
     "data": {
      "application/vnd.jupyter.widget-view+json": {
       "model_id": "03c19a5aabd5482c84bc7298309f6455",
       "version_major": 2,
       "version_minor": 0
      },
      "text/plain": [
       "HBox(children=(FloatProgress(value=0.0, max=254.0), HTML(value='')))"
      ]
     },
     "metadata": {},
     "output_type": "display_data"
    },
    {
     "name": "stdout",
     "output_type": "stream",
     "text": [
      "\n"
     ]
    },
    {
     "data": {
      "application/vnd.jupyter.widget-view+json": {
       "model_id": "df26165f601d412c9b9a9b0dbb44b1b8",
       "version_major": 2,
       "version_minor": 0
      },
      "text/plain": [
       "HBox(children=(FloatProgress(value=0.0, max=299.0), HTML(value='')))"
      ]
     },
     "metadata": {},
     "output_type": "display_data"
    },
    {
     "name": "stdout",
     "output_type": "stream",
     "text": [
      "\n"
     ]
    },
    {
     "data": {
      "application/vnd.jupyter.widget-view+json": {
       "model_id": "7e29442c5fa645059b3eec54651948be",
       "version_major": 2,
       "version_minor": 0
      },
      "text/plain": [
       "HBox(children=(FloatProgress(value=0.0, max=305.0), HTML(value='')))"
      ]
     },
     "metadata": {},
     "output_type": "display_data"
    },
    {
     "name": "stdout",
     "output_type": "stream",
     "text": [
      "\n"
     ]
    },
    {
     "data": {
      "application/vnd.jupyter.widget-view+json": {
       "model_id": "0ced512a31c6478492c1e2d0a54f4e17",
       "version_major": 2,
       "version_minor": 0
      },
      "text/plain": [
       "HBox(children=(FloatProgress(value=0.0, max=312.0), HTML(value='')))"
      ]
     },
     "metadata": {},
     "output_type": "display_data"
    },
    {
     "name": "stdout",
     "output_type": "stream",
     "text": [
      "\n"
     ]
    },
    {
     "data": {
      "application/vnd.jupyter.widget-view+json": {
       "model_id": "48f1988d877744d29561f6157132b8e8",
       "version_major": 2,
       "version_minor": 0
      },
      "text/plain": [
       "HBox(children=(FloatProgress(value=0.0, max=321.0), HTML(value='')))"
      ]
     },
     "metadata": {},
     "output_type": "display_data"
    },
    {
     "name": "stdout",
     "output_type": "stream",
     "text": [
      "\n"
     ]
    },
    {
     "data": {
      "application/vnd.jupyter.widget-view+json": {
       "model_id": "a8a0317c05f646268d3802f0fc9eef83",
       "version_major": 2,
       "version_minor": 0
      },
      "text/plain": [
       "HBox(children=(FloatProgress(value=0.0, max=320.0), HTML(value='')))"
      ]
     },
     "metadata": {},
     "output_type": "display_data"
    },
    {
     "name": "stdout",
     "output_type": "stream",
     "text": [
      "\n"
     ]
    },
    {
     "data": {
      "application/vnd.jupyter.widget-view+json": {
       "model_id": "8bff2a05c8314c25ae8a93c9af76aa9d",
       "version_major": 2,
       "version_minor": 0
      },
      "text/plain": [
       "HBox(children=(FloatProgress(value=0.0, max=316.0), HTML(value='')))"
      ]
     },
     "metadata": {},
     "output_type": "display_data"
    },
    {
     "name": "stdout",
     "output_type": "stream",
     "text": [
      "\n"
     ]
    },
    {
     "data": {
      "application/vnd.jupyter.widget-view+json": {
       "model_id": "eae79dfa192e46e38825ea4c830f58e6",
       "version_major": 2,
       "version_minor": 0
      },
      "text/plain": [
       "HBox(children=(FloatProgress(value=0.0, max=323.0), HTML(value='')))"
      ]
     },
     "metadata": {},
     "output_type": "display_data"
    },
    {
     "name": "stdout",
     "output_type": "stream",
     "text": [
      "\n"
     ]
    },
    {
     "data": {
      "application/vnd.jupyter.widget-view+json": {
       "model_id": "09a7ffb85ade4db6b0607cf9f1d390cb",
       "version_major": 2,
       "version_minor": 0
      },
      "text/plain": [
       "HBox(children=(FloatProgress(value=0.0, max=328.0), HTML(value='')))"
      ]
     },
     "metadata": {},
     "output_type": "display_data"
    },
    {
     "name": "stdout",
     "output_type": "stream",
     "text": [
      "\n"
     ]
    },
    {
     "data": {
      "application/vnd.jupyter.widget-view+json": {
       "model_id": "7a47d6249cde443f9b9dce6236cbe39a",
       "version_major": 2,
       "version_minor": 0
      },
      "text/plain": [
       "HBox(children=(FloatProgress(value=0.0, max=324.0), HTML(value='')))"
      ]
     },
     "metadata": {},
     "output_type": "display_data"
    },
    {
     "name": "stdout",
     "output_type": "stream",
     "text": [
      "\n"
     ]
    },
    {
     "data": {
      "application/vnd.jupyter.widget-view+json": {
       "model_id": "2300d03a08824b519fa716c516792968",
       "version_major": 2,
       "version_minor": 0
      },
      "text/plain": [
       "HBox(children=(FloatProgress(value=0.0, max=327.0), HTML(value='')))"
      ]
     },
     "metadata": {},
     "output_type": "display_data"
    },
    {
     "name": "stdout",
     "output_type": "stream",
     "text": [
      "\n"
     ]
    },
    {
     "data": {
      "application/vnd.jupyter.widget-view+json": {
       "model_id": "e14385fe1aa3472fb6a7b6cb9fa1daae",
       "version_major": 2,
       "version_minor": 0
      },
      "text/plain": [
       "HBox(children=(FloatProgress(value=0.0, max=317.0), HTML(value='')))"
      ]
     },
     "metadata": {},
     "output_type": "display_data"
    },
    {
     "name": "stdout",
     "output_type": "stream",
     "text": [
      "\n"
     ]
    },
    {
     "data": {
      "application/vnd.jupyter.widget-view+json": {
       "model_id": "211ef3e0cd674715986d5360b76c3d20",
       "version_major": 2,
       "version_minor": 0
      },
      "text/plain": [
       "HBox(children=(FloatProgress(value=0.0, max=321.0), HTML(value='')))"
      ]
     },
     "metadata": {},
     "output_type": "display_data"
    },
    {
     "name": "stdout",
     "output_type": "stream",
     "text": [
      "\n"
     ]
    },
    {
     "data": {
      "application/vnd.jupyter.widget-view+json": {
       "model_id": "f0ba36c7e15f406b9b26017dc399f048",
       "version_major": 2,
       "version_minor": 0
      },
      "text/plain": [
       "HBox(children=(FloatProgress(value=0.0, max=323.0), HTML(value='')))"
      ]
     },
     "metadata": {},
     "output_type": "display_data"
    },
    {
     "name": "stdout",
     "output_type": "stream",
     "text": [
      "\n"
     ]
    }
   ],
   "source": [
    "recourse_feasibilities = []\n",
    "recourse_costs = []\n",
    "for j, clf in enumerate(good_classifiers):\n",
    "    auditor = RecourseAuditor(action_sets[j], coefficients = clf.coef_[0], intercept = clf.intercept_[0])\n",
    "    audit_df = auditor.audit(X)  ## matrix of features over which we will perform the audit.\n",
    "    recourse_feasibilities.append(audit_df['feasible'].mean())\n",
    "    recourse_costs.append(audit_df['cost'].mean())"
   ]
  },
  {
   "cell_type": "code",
   "execution_count": 150,
   "metadata": {},
   "outputs": [],
   "source": [
    "results['fr_generating_mean'] = [np.mean(results['fr_generating'][i]) for i in range(len(results))]\n",
    "results['fr_generating_std'] = [np.std(results['fr_generating'][i]) for i in range(len(results))]\n",
    "results['fr_evaluating_mean'] = [np.mean(results['fr_evaluating'][i]) for i in range(len(results))]\n",
    "results['fr_evaluating_std'] = [np.std(results['fr_evaluating'][i]) for i in range(len(results))]\n",
    "results['feasibility'] = recourse_feasibilities\n",
    "results['cost'] = recourse_costs"
   ]
  },
  {
   "cell_type": "code",
   "execution_count": 157,
   "metadata": {},
   "outputs": [
    {
     "data": {
      "text/html": [
       "<div>\n",
       "<style scoped>\n",
       "    .dataframe tbody tr th:only-of-type {\n",
       "        vertical-align: middle;\n",
       "    }\n",
       "\n",
       "    .dataframe tbody tr th {\n",
       "        vertical-align: top;\n",
       "    }\n",
       "\n",
       "    .dataframe thead th {\n",
       "        text-align: right;\n",
       "    }\n",
       "</style>\n",
       "<table border=\"1\" class=\"dataframe\">\n",
       "  <thead>\n",
       "    <tr style=\"text-align: right;\">\n",
       "      <th></th>\n",
       "      <th>i_clf</th>\n",
       "      <th>C_value</th>\n",
       "      <th>CV_accuracy</th>\n",
       "      <th>fr_generating_mean</th>\n",
       "      <th>fr_generating_std</th>\n",
       "      <th>fr_evaluating_mean</th>\n",
       "      <th>fr_evaluating_std</th>\n",
       "      <th>feasibility</th>\n",
       "      <th>cost</th>\n",
       "    </tr>\n",
       "  </thead>\n",
       "  <tbody>\n",
       "    <tr>\n",
       "      <th>0</th>\n",
       "      <td>0</td>\n",
       "      <td>0.002976</td>\n",
       "      <td>0.792667</td>\n",
       "      <td>0.540056</td>\n",
       "      <td>0.127507</td>\n",
       "      <td>0.746846</td>\n",
       "      <td>0.072281</td>\n",
       "      <td>1.0</td>\n",
       "      <td>0.050438</td>\n",
       "    </tr>\n",
       "    <tr>\n",
       "      <th>1</th>\n",
       "      <td>1</td>\n",
       "      <td>0.006952</td>\n",
       "      <td>0.796667</td>\n",
       "      <td>0.564967</td>\n",
       "      <td>0.135336</td>\n",
       "      <td>0.731268</td>\n",
       "      <td>0.079617</td>\n",
       "      <td>1.0</td>\n",
       "      <td>0.051018</td>\n",
       "    </tr>\n",
       "    <tr>\n",
       "      <th>2</th>\n",
       "      <td>2</td>\n",
       "      <td>0.016238</td>\n",
       "      <td>0.797000</td>\n",
       "      <td>0.545778</td>\n",
       "      <td>0.162834</td>\n",
       "      <td>0.698013</td>\n",
       "      <td>0.103293</td>\n",
       "      <td>1.0</td>\n",
       "      <td>0.052373</td>\n",
       "    </tr>\n",
       "    <tr>\n",
       "      <th>3</th>\n",
       "      <td>3</td>\n",
       "      <td>0.037927</td>\n",
       "      <td>0.796000</td>\n",
       "      <td>0.544444</td>\n",
       "      <td>0.146847</td>\n",
       "      <td>0.682057</td>\n",
       "      <td>0.116404</td>\n",
       "      <td>1.0</td>\n",
       "      <td>0.056350</td>\n",
       "    </tr>\n",
       "    <tr>\n",
       "      <th>4</th>\n",
       "      <td>4</td>\n",
       "      <td>0.088587</td>\n",
       "      <td>0.795000</td>\n",
       "      <td>0.623642</td>\n",
       "      <td>0.126813</td>\n",
       "      <td>0.692618</td>\n",
       "      <td>0.147576</td>\n",
       "      <td>1.0</td>\n",
       "      <td>0.057435</td>\n",
       "    </tr>\n",
       "    <tr>\n",
       "      <th>5</th>\n",
       "      <td>5</td>\n",
       "      <td>0.206914</td>\n",
       "      <td>0.793000</td>\n",
       "      <td>0.687578</td>\n",
       "      <td>0.105418</td>\n",
       "      <td>0.681241</td>\n",
       "      <td>0.150446</td>\n",
       "      <td>1.0</td>\n",
       "      <td>0.057279</td>\n",
       "    </tr>\n",
       "    <tr>\n",
       "      <th>6</th>\n",
       "      <td>6</td>\n",
       "      <td>0.483293</td>\n",
       "      <td>0.794000</td>\n",
       "      <td>0.729595</td>\n",
       "      <td>0.094307</td>\n",
       "      <td>0.620219</td>\n",
       "      <td>0.139158</td>\n",
       "      <td>1.0</td>\n",
       "      <td>0.057608</td>\n",
       "    </tr>\n",
       "    <tr>\n",
       "      <th>7</th>\n",
       "      <td>7</td>\n",
       "      <td>2.636651</td>\n",
       "      <td>0.794000</td>\n",
       "      <td>0.616614</td>\n",
       "      <td>0.129856</td>\n",
       "      <td>0.629077</td>\n",
       "      <td>0.122727</td>\n",
       "      <td>1.0</td>\n",
       "      <td>0.059301</td>\n",
       "    </tr>\n",
       "    <tr>\n",
       "      <th>8</th>\n",
       "      <td>8</td>\n",
       "      <td>6.158482</td>\n",
       "      <td>0.793333</td>\n",
       "      <td>0.670576</td>\n",
       "      <td>0.107724</td>\n",
       "      <td>0.672432</td>\n",
       "      <td>0.145370</td>\n",
       "      <td>1.0</td>\n",
       "      <td>0.057527</td>\n",
       "    </tr>\n",
       "    <tr>\n",
       "      <th>9</th>\n",
       "      <td>9</td>\n",
       "      <td>14.384499</td>\n",
       "      <td>0.794000</td>\n",
       "      <td>0.734549</td>\n",
       "      <td>0.107679</td>\n",
       "      <td>0.623738</td>\n",
       "      <td>0.141710</td>\n",
       "      <td>1.0</td>\n",
       "      <td>0.057778</td>\n",
       "    </tr>\n",
       "    <tr>\n",
       "      <th>10</th>\n",
       "      <td>10</td>\n",
       "      <td>33.598183</td>\n",
       "      <td>0.792333</td>\n",
       "      <td>0.713026</td>\n",
       "      <td>0.098669</td>\n",
       "      <td>0.654894</td>\n",
       "      <td>0.149050</td>\n",
       "      <td>1.0</td>\n",
       "      <td>0.057544</td>\n",
       "    </tr>\n",
       "    <tr>\n",
       "      <th>11</th>\n",
       "      <td>11</td>\n",
       "      <td>78.475997</td>\n",
       "      <td>0.794333</td>\n",
       "      <td>0.761382</td>\n",
       "      <td>0.086637</td>\n",
       "      <td>0.568597</td>\n",
       "      <td>0.132972</td>\n",
       "      <td>1.0</td>\n",
       "      <td>0.058812</td>\n",
       "    </tr>\n",
       "    <tr>\n",
       "      <th>12</th>\n",
       "      <td>12</td>\n",
       "      <td>183.298071</td>\n",
       "      <td>0.792667</td>\n",
       "      <td>0.675472</td>\n",
       "      <td>0.111708</td>\n",
       "      <td>0.653337</td>\n",
       "      <td>0.144277</td>\n",
       "      <td>1.0</td>\n",
       "      <td>0.058455</td>\n",
       "    </tr>\n",
       "    <tr>\n",
       "      <th>13</th>\n",
       "      <td>13</td>\n",
       "      <td>428.133240</td>\n",
       "      <td>0.793333</td>\n",
       "      <td>0.704969</td>\n",
       "      <td>0.090059</td>\n",
       "      <td>0.642943</td>\n",
       "      <td>0.126947</td>\n",
       "      <td>1.0</td>\n",
       "      <td>0.057672</td>\n",
       "    </tr>\n",
       "    <tr>\n",
       "      <th>14</th>\n",
       "      <td>14</td>\n",
       "      <td>1000.000000</td>\n",
       "      <td>0.792667</td>\n",
       "      <td>0.739300</td>\n",
       "      <td>0.074942</td>\n",
       "      <td>0.554669</td>\n",
       "      <td>0.125033</td>\n",
       "      <td>1.0</td>\n",
       "      <td>0.058656</td>\n",
       "    </tr>\n",
       "  </tbody>\n",
       "</table>\n",
       "</div>"
      ],
      "text/plain": [
       "    i_clf      C_value  CV_accuracy  fr_generating_mean  fr_generating_std  \\\n",
       "0       0     0.002976     0.792667            0.540056           0.127507   \n",
       "1       1     0.006952     0.796667            0.564967           0.135336   \n",
       "2       2     0.016238     0.797000            0.545778           0.162834   \n",
       "3       3     0.037927     0.796000            0.544444           0.146847   \n",
       "4       4     0.088587     0.795000            0.623642           0.126813   \n",
       "5       5     0.206914     0.793000            0.687578           0.105418   \n",
       "6       6     0.483293     0.794000            0.729595           0.094307   \n",
       "7       7     2.636651     0.794000            0.616614           0.129856   \n",
       "8       8     6.158482     0.793333            0.670576           0.107724   \n",
       "9       9    14.384499     0.794000            0.734549           0.107679   \n",
       "10     10    33.598183     0.792333            0.713026           0.098669   \n",
       "11     11    78.475997     0.794333            0.761382           0.086637   \n",
       "12     12   183.298071     0.792667            0.675472           0.111708   \n",
       "13     13   428.133240     0.793333            0.704969           0.090059   \n",
       "14     14  1000.000000     0.792667            0.739300           0.074942   \n",
       "\n",
       "    fr_evaluating_mean  fr_evaluating_std  feasibility      cost  \n",
       "0             0.746846           0.072281          1.0  0.050438  \n",
       "1             0.731268           0.079617          1.0  0.051018  \n",
       "2             0.698013           0.103293          1.0  0.052373  \n",
       "3             0.682057           0.116404          1.0  0.056350  \n",
       "4             0.692618           0.147576          1.0  0.057435  \n",
       "5             0.681241           0.150446          1.0  0.057279  \n",
       "6             0.620219           0.139158          1.0  0.057608  \n",
       "7             0.629077           0.122727          1.0  0.059301  \n",
       "8             0.672432           0.145370          1.0  0.057527  \n",
       "9             0.623738           0.141710          1.0  0.057778  \n",
       "10            0.654894           0.149050          1.0  0.057544  \n",
       "11            0.568597           0.132972          1.0  0.058812  \n",
       "12            0.653337           0.144277          1.0  0.058455  \n",
       "13            0.642943           0.126947          1.0  0.057672  \n",
       "14            0.554669           0.125033          1.0  0.058656  "
      ]
     },
     "execution_count": 157,
     "metadata": {},
     "output_type": "execute_result"
    }
   ],
   "source": [
    "results.drop(['fr_generating','fr_evaluating'], axis=1)"
   ]
  },
  {
   "cell_type": "code",
   "execution_count": 158,
   "metadata": {},
   "outputs": [
    {
     "name": "stdout",
     "output_type": "stream",
     "text": [
      "\\begin{tabular}{rrrllrrrrrr}\n",
      "\\toprule\n",
      " i\\_clf &      C\\_value &  CV\\_accuracy &                                      fr\\_generating &                                      fr\\_evaluating &  fr\\_generating\\_mean &  fr\\_generating\\_std &  fr\\_evaluating\\_mean &  fr\\_evaluating\\_std &  feasibility &      cost \\\\\n",
      "\\midrule\n",
      "     0 &     0.002976 &     0.792667 &  [1.0, 0.6134453781512605, 0.5336134453781513, ... &  [1.0, 0.7764705882352941, 0.7966666666666666, ... &            0.540056 &           0.127507 &            0.746846 &           0.072281 &          1.0 &  0.050438 \\\\\n",
      "     1 &     0.006952 &     0.796667 &  [0.7764705882352941, 1.0, 0.5372549019607843, ... &  [0.6134453781512605, 1.0, 0.7666666666666667, ... &            0.564967 &           0.135336 &            0.731268 &           0.079617 &          1.0 &  0.051018 \\\\\n",
      "     2 &     0.016238 &     0.797000 &  [0.7966666666666666, 0.7666666666666667, 1.0, ... &  [0.5336134453781513, 0.5372549019607843, 1.0, ... &            0.545778 &           0.162834 &            0.698013 &           0.103293 &          1.0 &  0.052373 \\\\\n",
      "     3 &     0.037927 &     0.796000 &  [0.7287581699346405, 0.6830065359477124, 0.588... &  [0.5126050420168067, 0.49019607843137253, 0.50... &            0.544444 &           0.146847 &            0.682057 &           0.116404 &          1.0 &  0.056350 \\\\\n",
      "     4 &     0.088587 &     0.795000 &  [0.7124600638977636, 0.6996805111821086, 0.712... &  [0.5126050420168067, 0.49019607843137253, 0.44... &            0.623642 &           0.126813 &            0.692618 &           0.147576 &          1.0 &  0.057435 \\\\\n",
      "     5 &     0.206914 &     0.793000 &  [0.7298136645962733, 0.7329192546583851, 0.723... &  [0.4957983193277311, 0.5254901960784314, 0.47,... &            0.687578 &           0.105418 &            0.681241 &           0.150446 &          1.0 &  0.057279 \\\\\n",
      "     6 &     0.483293 &     0.794000 &  [0.7289719626168224, 0.7507788161993769, 0.722... &  [0.47058823529411764, 0.5333333333333333, 0.47... &            0.729595 &           0.094307 &            0.620219 &           0.139158 &          1.0 &  0.057608 \\\\\n",
      "     7 &     2.636651 &     0.794000 &  [0.7097791798107256, 0.6876971608832808, 0.700... &  [0.5084033613445378, 0.49411764705882355, 0.47... &            0.616614 &           0.129856 &            0.629077 &           0.122727 &          1.0 &  0.059301 \\\\\n",
      "     8 &     6.158482 &     0.793333 &  [0.7006172839506173, 0.7129629629629629, 0.682... &  [0.5084033613445378, 0.5372549019607843, 0.47,... &            0.670576 &           0.107724 &            0.672432 &           0.145370 &          1.0 &  0.057527 \\\\\n",
      "     9 &    14.384499 &     0.794000 &  [0.7355623100303952, 0.7325227963525835, 0.723... &  [0.48739495798319327, 0.5058823529411764, 0.42... &            0.734549 &           0.107679 &            0.623738 &           0.141710 &          1.0 &  0.057778 \\\\\n",
      "    10 &    33.598183 &     0.792333 &  [0.72, 0.7323076923076923, 0.72, 0.68307692307... &  [0.4957983193277311, 0.5254901960784314, 0.473... &            0.713026 &           0.098669 &            0.654894 &           0.149050 &          1.0 &  0.057544 \\\\\n",
      "    11 &    78.475997 &     0.794333 &  [0.7225609756097561, 0.7317073170731707, 0.713... &  [0.4831932773109244, 0.5058823529411764, 0.44,... &            0.761382 &           0.086637 &            0.568597 &           0.132972 &          1.0 &  0.058812 \\\\\n",
      "    12 &   183.298071 &     0.792667 &  [0.7169811320754716, 0.6981132075471698, 0.710... &  [0.47478991596638653, 0.48627450980392156, 0.4... &            0.675472 &           0.111708 &            0.653337 &           0.144277 &          1.0 &  0.058455 \\\\\n",
      "    13 &   428.133240 &     0.793333 &  [0.6956521739130435, 0.7080745341614907, 0.683... &  [0.5294117647058824, 0.5764705882352941, 0.523... &            0.704969 &           0.090059 &            0.642943 &           0.126947 &          1.0 &  0.057672 \\\\\n",
      "    14 &  1000.000000 &     0.792667 &  [0.7283950617283951, 0.7191358024691358, 0.719... &  [0.47478991596638653, 0.49019607843137253, 0.4... &            0.739300 &           0.074942 &            0.554669 &           0.125033 &          1.0 &  0.058656 \\\\\n",
      "\\bottomrule\n",
      "\\end{tabular}\n",
      "\n"
     ]
    }
   ],
   "source": [
    "print(results.to_latex(index=False))"
   ]
  },
  {
   "cell_type": "code",
   "execution_count": null,
   "metadata": {},
   "outputs": [],
   "source": []
  }
 ],
 "metadata": {
  "kernelspec": {
   "display_name": "Python 3",
   "language": "python",
   "name": "python3"
  },
  "language_info": {
   "codemirror_mode": {
    "name": "ipython",
    "version": 3
   },
   "file_extension": ".py",
   "mimetype": "text/x-python",
   "name": "python",
   "nbconvert_exporter": "python",
   "pygments_lexer": "ipython3",
   "version": "3.6.10"
  }
 },
 "nbformat": 4,
 "nbformat_minor": 4
}
