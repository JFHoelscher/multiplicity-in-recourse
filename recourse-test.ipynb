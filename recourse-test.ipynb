{
 "cells": [
  {
   "cell_type": "markdown",
   "metadata": {},
   "source": [
    "Test for using actionable-recourse, provided on https://github.com/ustunb/actionable-recourse\n",
    "\n",
    "In order to compare recourse for several similar classifiers, we use cross validation to fit several logistic regression models (Is this the right way?). In the next step, we want to check whether the flipsets generated for one of them apply also for the other classifiers."
   ]
  },
  {
   "cell_type": "code",
   "execution_count": 1,
   "metadata": {},
   "outputs": [],
   "source": [
    "import copy\n",
    "from tqdm.notebook import tqdm\n",
    "import pandas as pd\n",
    "import numpy as np\n",
    "from sklearn.linear_model import LogisticRegression\n",
    "from sklearn.model_selection import cross_validate\n",
    "from sklearn.model_selection import StratifiedKFold as CVGenerator\n",
    "from sklearn.model_selection import GridSearchCV\n",
    "import recourse as rs\n",
    "from recourse.builder import ActionSet #FIX\n",
    "from recourse.flipset import Flipset #FIX\n",
    "from recourse.auditor import RecourseAuditor #FIX"
   ]
  },
  {
   "cell_type": "markdown",
   "metadata": {},
   "source": [
    "import data"
   ]
  },
  {
   "cell_type": "code",
   "execution_count": 2,
   "metadata": {},
   "outputs": [
    {
     "name": "stdout",
     "output_type": "stream",
     "text": [
      "3000\n"
     ]
    }
   ],
   "source": [
    "url = 'https://raw.githubusercontent.com/ustunb/actionable-recourse/master/examples/paper/data/credit_processed.csv'\n",
    "df = pd.read_csv(url, skipinitialspace=True)\n",
    "n_data = len(df) # 30.000\n",
    "cut_factor = 0.1 # 1 -> full dataset considered (but randomly shuffled)\n",
    "idxs = np.random.choice(n_data, int((1-cut_factor)*n_data), replace = False)\n",
    "# randomly choose cut_factor * n samples to fasten analysis\n",
    "df = df.drop(idxs)\n",
    "y, X = df.iloc[:, 0], df.iloc[:, 1:]\n",
    "print(len(df))"
   ]
  },
  {
   "cell_type": "markdown",
   "metadata": {},
   "source": [
    "NEW: Use Cross validation to train several different classifiers (takes some time!)"
   ]
  },
  {
   "cell_type": "code",
   "execution_count": 3,
   "metadata": {},
   "outputs": [],
   "source": [
    "alter_C = True\n",
    "n_splits = 20\n",
    "if not alter_C:\n",
    "    clf = LogisticRegression(max_iter=10000)\n",
    "    cv = cross_validate(clf, X, y, cv=n_splits, return_estimator=True)\n",
    "    cv_scores = cv['test_score']\n",
    "    classifiers = np.array(cv['estimator'])"
   ]
  },
  {
   "cell_type": "markdown",
   "metadata": {},
   "source": [
    "Alternative: Use GridSearchCV on parameter C (takes some time!)"
   ]
  },
  {
   "cell_type": "code",
   "execution_count": 4,
   "metadata": {},
   "outputs": [
    {
     "name": "stdout",
     "output_type": "stream",
     "text": [
      "Fitting 10 folds for each of 20 candidates, totalling 200 fits\n"
     ]
    },
    {
     "name": "stderr",
     "output_type": "stream",
     "text": [
      "[Parallel(n_jobs=-1)]: Using backend LokyBackend with 4 concurrent workers.\n",
      "[Parallel(n_jobs=-1)]: Done  42 tasks      | elapsed:    7.6s\n",
      "[Parallel(n_jobs=-1)]: Done 192 tasks      | elapsed:   54.3s\n",
      "[Parallel(n_jobs=-1)]: Done 200 out of 200 | elapsed:   56.0s finished\n"
     ]
    }
   ],
   "source": [
    "if alter_C:\n",
    "    cv_generator = CVGenerator(n_splits = 10)\n",
    "    clf = LogisticRegression(max_iter=10000, solver='lbfgs')\n",
    "\n",
    "    # this code is for general purpose train/test evaluation using GridSearchCV\n",
    "    gridsearch = GridSearchCV(\n",
    "        clf, \n",
    "        param_grid={'C':np.logspace(-4, 3, num=n_splits)},\n",
    "        scoring='accuracy',\n",
    "        cv=cv_generator,\n",
    "        verbose=1,\n",
    "        n_jobs=-1\n",
    "    )\n",
    "\n",
    "    gridsearch.fit(X,y)\n",
    "    grid_search_df = pd.DataFrame(gridsearch.cv_results_)"
   ]
  },
  {
   "cell_type": "code",
   "execution_count": 5,
   "metadata": {},
   "outputs": [
    {
     "data": {
      "application/vnd.jupyter.widget-view+json": {
       "model_id": "bc5097e40cc74e6f97fe58399425cf27",
       "version_major": 2,
       "version_minor": 0
      },
      "text/plain": [
       "HBox(children=(FloatProgress(value=0.0, max=20.0), HTML(value='')))"
      ]
     },
     "metadata": {},
     "output_type": "display_data"
    },
    {
     "name": "stdout",
     "output_type": "stream",
     "text": [
      "\n"
     ]
    }
   ],
   "source": [
    "if alter_C:\n",
    "    # cache a model for each parameter combination, trained on all data\n",
    "    classifiers = []\n",
    "    classifier_Cs = []\n",
    "    for idx, p in tqdm(list(grid_search_df.params.iteritems())):\n",
    "        model = copy.deepcopy(clf.set_params(**p)).fit(X,y)\n",
    "        classifiers.append(model)\n",
    "        classifier_Cs.append(p.items())\n",
    "    cv_scores = grid_search_df['mean_test_score']\n",
    "    classifiers = np.array(classifiers)\n",
    "    # Is it inconsistent to consider score before fitting the whole train set? \n",
    "    # But otherwise, it would violate train-test splitting\n",
    "    # CV + fit is a bit of an overkill here?"
   ]
  },
  {
   "cell_type": "markdown",
   "metadata": {},
   "source": [
    "NEW: Select those classifiers that achieve performance within certain tolerance"
   ]
  },
  {
   "cell_type": "code",
   "execution_count": 6,
   "metadata": {},
   "outputs": [
    {
     "name": "stdout",
     "output_type": "stream",
     "text": [
      "0.7969999999999999\n",
      "0.005570809467990694\n",
      "15\n"
     ]
    }
   ],
   "source": [
    "#X_test = X[:3]\n",
    "#for i, est in enumerate(scores['estimator']):\n",
    "#    print(scores['test_score'][i], est.predict(X_test))\n",
    "tolerance = 1*np.std(cv_scores)\n",
    "good_classifiers = classifiers[cv_scores >= np.max(cv_scores) - tolerance]\n",
    "\n",
    "print(np.max(cv_scores))\n",
    "print(cv_scores.std())\n",
    "print(len(good_classifiers))"
   ]
  },
  {
   "cell_type": "markdown",
   "metadata": {},
   "source": [
    "get predictions"
   ]
  },
  {
   "cell_type": "code",
   "execution_count": 7,
   "metadata": {},
   "outputs": [],
   "source": [
    "yhat = [clf.predict(X) for clf in good_classifiers]"
   ]
  },
  {
   "cell_type": "markdown",
   "metadata": {},
   "source": [
    "customize the set of actions and align"
   ]
  },
  {
   "cell_type": "code",
   "execution_count": 8,
   "metadata": {},
   "outputs": [],
   "source": [
    "action_sets=[]\n",
    "for clf in good_classifiers:\n",
    "    ## matrix of features. ActionSet will learn default bounds and step-size.\n",
    "    A = ActionSet(X)\n",
    "    ## specify immutable variables\n",
    "    A['Married'].mutable = False \n",
    "    ## can only specify properties for multiple variables using a list\n",
    "    A[['Age_lt_25', 'Age_in_25_to_40', 'Age_in_40_to_59', 'Age_geq_60']].mutable = False \n",
    "    A['EducationLevel'].step_direction = 1  ## force conditional immutability.\n",
    "    A['EducationLevel'].step_size = 1  ## set step-size to a custom value.\n",
    "    A['EducationLevel'].step_type = \"absolute\"  ## force conditional immutability.\n",
    "    A['EducationLevel'].bounds = (0, 3)\n",
    "    A['TotalMonthsOverdue'].step_size = 1  ## set step-size to a custom value.\n",
    "    A['TotalMonthsOverdue'].step_type = \"absolute\"  ## discretize on absolute values of feature rather than percentile values\n",
    "    A['TotalMonthsOverdue'].bounds = (0, 100)  ## set bounds to a custom value.\n",
    "    \n",
    "    ## tells `ActionSet` which directions each feature should move in to produce positive change.\n",
    "    A.align(clf)\n",
    "    action_sets.append(A)"
   ]
  },
  {
   "cell_type": "markdown",
   "metadata": {},
   "source": [
    "NEW: change inputs according to flipsets (takes some time!)"
   ]
  },
  {
   "cell_type": "code",
   "execution_count": 9,
   "metadata": {},
   "outputs": [],
   "source": [
    "%%capture\n",
    "j_clf = 0 # flipset generated for j_th classifier TODO later: iterate j_clf?\n",
    "k_fs = 0  # k-th flipset is applied; MAYDO later: iterate k_fs?\n",
    "        # when iterating j_clf, we would probably not filter X here...\n",
    "xs = copy.deepcopy(X.iloc[np.flatnonzero(yhat[j_clf] <= 0)]).to_numpy()\n",
    "for i in range(len(xs)):\n",
    "    fs = Flipset(x = xs[i], action_set = action_sets[j_clf], clf = good_classifiers[j_clf])\n",
    "    fs.populate(enumeration_type = 'distinct_subsets', total_items = 10)\n",
    "    for j, fi in enumerate(fs._df['feature_idx'][k_fs]):\n",
    "        xs[i,fi] = fs._df['x_new'][k_fs][j]"
   ]
  },
  {
   "cell_type": "markdown",
   "metadata": {},
   "source": [
    "NEW: Measure for how many individuals the adjusted input leads to desirable outcomes for each classifier"
   ]
  },
  {
   "cell_type": "code",
   "execution_count": 10,
   "metadata": {},
   "outputs": [
    {
     "data": {
      "text/plain": [
       "[1.0,\n",
       " 0.6134453781512605,\n",
       " 0.5336134453781513,\n",
       " 0.5126050420168067,\n",
       " 0.5126050420168067,\n",
       " 0.4957983193277311,\n",
       " 0.47058823529411764,\n",
       " 0.5084033613445378,\n",
       " 0.5084033613445378,\n",
       " 0.48739495798319327,\n",
       " 0.4957983193277311,\n",
       " 0.4831932773109244,\n",
       " 0.47478991596638653,\n",
       " 0.5294117647058824,\n",
       " 0.47478991596638653]"
      ]
     },
     "execution_count": 10,
     "metadata": {},
     "output_type": "execute_result"
    }
   ],
   "source": [
    "flips = []\n",
    "preds = []\n",
    "for clf in good_classifiers:\n",
    "    ys = clf.predict(xs)\n",
    "    preds.append(ys)\n",
    "    flips.append(np.mean(ys))\n",
    "flips"
   ]
  },
  {
   "cell_type": "markdown",
   "metadata": {},
   "source": [
    "NEW: change inputs according to flipsets (takes some time!)"
   ]
  },
  {
   "cell_type": "markdown",
   "metadata": {},
   "source": [
    "**TODO:** Use only negatively predicted datapoints; Make whole thing more sound"
   ]
  },
  {
   "cell_type": "code",
   "execution_count": 39,
   "metadata": {},
   "outputs": [],
   "source": [
    "%%capture\n",
    "X_new = [copy.deepcopy(X.iloc[np.flatnonzero(yhat[j_clf] <= 0)]).to_numpy() for j_clf in range(len(good_classifiers))]\n",
    "# X_new[clf that generated flipset][datapoint, feature]\n",
    "k_fs = 0 # k-th flipset is applied; MAYDO later: iterate k_fs?\n",
    "for j_clf, clf in enumerate(good_classifiers):\n",
    "    print(\"Apply flipsets of classifier\", j_clf)\n",
    "    for i in range(X_new[j_clf].shape[0]):\n",
    "        fs = Flipset(x = X_new[j_clf][i, :], action_set = action_sets[j_clf], clf = clf)\n",
    "        fs.populate(enumeration_type = 'distinct_subsets', total_items = 10)\n",
    "        X_new[j_clf][i, fs._df['feature_idx'][k_fs]] = fs._df['x_new'][k_fs]"
   ]
  },
  {
   "cell_type": "code",
   "execution_count": 45,
   "metadata": {},
   "outputs": [
    {
     "name": "stdout",
     "output_type": "stream",
     "text": [
      "[238, 255, 300, 306, 313, 322, 321, 317, 324, 329, 325, 328, 318, 322, 324]\n"
     ]
    }
   ],
   "source": [
    "print([len(X_new[i]) for i in range(len(good_classifiers))])"
   ]
  },
  {
   "cell_type": "markdown",
   "metadata": {},
   "source": [
    "NEW: Measure for how many individuals the adjusted input leads to desirable outcomes for each classifier"
   ]
  },
  {
   "cell_type": "code",
   "execution_count": 42,
   "metadata": {},
   "outputs": [],
   "source": [
    "yhat_new = [[clf_pred.predict(X_new[j_fs]) for clf_pred in good_classifiers] \\\n",
    "            for j_fs in range(len(good_classifiers))] \n",
    "# yhat_new[clf that generated flipset][clf that predicted outcome][datapoint]\n",
    "# the datapoint dimension has different lengths!"
   ]
  },
  {
   "cell_type": "code",
   "execution_count": 44,
   "metadata": {},
   "outputs": [
    {
     "name": "stdout",
     "output_type": "stream",
     "text": [
      "[[238, 255, 300, 306, 313, 322, 321, 317, 324, 329, 325, 328, 318, 322, 324], [238, 255, 300, 306, 313, 322, 321, 317, 324, 329, 325, 328, 318, 322, 324], [238, 255, 300, 306, 313, 322, 321, 317, 324, 329, 325, 328, 318, 322, 324], [238, 255, 300, 306, 313, 322, 321, 317, 324, 329, 325, 328, 318, 322, 324], [238, 255, 300, 306, 313, 322, 321, 317, 324, 329, 325, 328, 318, 322, 324], [238, 255, 300, 306, 313, 322, 321, 317, 324, 329, 325, 328, 318, 322, 324], [238, 255, 300, 306, 313, 322, 321, 317, 324, 329, 325, 328, 318, 322, 324], [238, 255, 300, 306, 313, 322, 321, 317, 324, 329, 325, 328, 318, 322, 324], [238, 255, 300, 306, 313, 322, 321, 317, 324, 329, 325, 328, 318, 322, 324], [238, 255, 300, 306, 313, 322, 321, 317, 324, 329, 325, 328, 318, 322, 324], [238, 255, 300, 306, 313, 322, 321, 317, 324, 329, 325, 328, 318, 322, 324], [238, 255, 300, 306, 313, 322, 321, 317, 324, 329, 325, 328, 318, 322, 324], [238, 255, 300, 306, 313, 322, 321, 317, 324, 329, 325, 328, 318, 322, 324], [238, 255, 300, 306, 313, 322, 321, 317, 324, 329, 325, 328, 318, 322, 324], [238, 255, 300, 306, 313, 322, 321, 317, 324, 329, 325, 328, 318, 322, 324]]\n"
     ]
    }
   ],
   "source": [
    "print([[len(yhat_new[i][j]) for i in range(len(good_classifiers))] for j in range(len(good_classifiers))])"
   ]
  },
  {
   "cell_type": "code",
   "execution_count": 47,
   "metadata": {},
   "outputs": [],
   "source": [
    "flip_accuracy = [[yhat_new[i_fs][j_pred].mean() for j_pred in range(len(good_classifiers))] \\\n",
    "                 for i_fs in range(len(good_classifiers))]"
   ]
  },
  {
   "cell_type": "markdown",
   "metadata": {},
   "source": [
    "Not necessary: Some example to see change"
   ]
  },
  {
   "cell_type": "code",
   "execution_count": 54,
   "metadata": {},
   "outputs": [
    {
     "name": "stdout",
     "output_type": "stream",
     "text": [
      "     Married  Single  Age_lt_25  Age_in_25_to_40  Age_in_40_to_59  ...  \\\n",
      "50         0       1          0                0                1  ...   \n",
      "62         0       1          0                1                0  ...   \n",
      "71         0       1          0                1                0  ...   \n",
      "513        0       1          1                0                0  ...   \n",
      "\n",
      "     MostRecentBillAmount  MostRecentPaymentAmount  TotalOverdueCounts  \\\n",
      "50                   1130                        0                   1   \n",
      "62                    760                        0                   1   \n",
      "71                   1780                       80                   1   \n",
      "513                   900                       60                   1   \n",
      "\n",
      "     TotalMonthsOverdue  HistoryOfOverduePayments  \n",
      "50                    9                         1  \n",
      "62                   12                         1  \n",
      "71                   12                         1  \n",
      "513                  12                         1  \n",
      "\n",
      "[4 rows x 17 columns]\n",
      "[[   0    1    0    0    1    0    1 1200   90    0    0    0 1130    0\n",
      "     1    7    1]\n",
      " [   0    1    0    1    0    0    3  860   80    0    0    0  760    0\n",
      "     1    6    1]\n",
      " [   0    1    0    1    0    0    2 1940  150    0    6    0 1780   80\n",
      "     1    8    1]\n",
      " [   0    1    1    0    0    0    2 1010   60    0    0    0  900   60\n",
      "     1    7    1]]\n",
      "after [1. 1. 1. 1. 1. 1. 1. 1. 1. 1.]\n",
      "befor [0. 0. 0. 0. 0. 0. 0. 0. 0. 0.]\n",
      "after [1. 1. 1. 1. 0. 1. 1. 1. 0. 1.]\n",
      "befor [0. 0. 0. 0. 0. 0. 0. 0. 0. 0.]\n",
      "after [1. 1. 1. 0. 0. 0. 1. 1. 1. 0.]\n",
      "befor [0. 0. 0. 0. 0. 0. 0. 0. 0. 0.]\n",
      "after [0. 1. 1. 0. 0. 0. 1. 0. 1. 0.]\n",
      "befor [0. 0. 0. 0. 0. 0. 0. 0. 0. 0.]\n",
      "after [1. 1. 1. 0. 0. 0. 1. 0. 1. 0.]\n",
      "befor [0. 0. 0. 0. 0. 0. 0. 0. 0. 0.]\n",
      "after [1. 1. 1. 0. 0. 0. 1. 0. 1. 0.]\n",
      "befor [0. 0. 0. 0. 0. 0. 0. 0. 0. 0.]\n",
      "after [1. 1. 1. 0. 0. 0. 1. 1. 1. 0.]\n",
      "befor [0. 0. 0. 0. 0. 0. 0. 0. 0. 0.]\n",
      "after [0. 1. 1. 0. 0. 0. 1. 0. 1. 0.]\n",
      "befor [0. 0. 0. 0. 0. 0. 0. 0. 0. 0.]\n",
      "after [1. 1. 1. 0. 0. 0. 1. 0. 1. 0.]\n",
      "befor [0. 0. 0. 0. 0. 0. 0. 0. 0. 0.]\n",
      "after [1. 1. 1. 0. 0. 0. 1. 0. 1. 0.]\n",
      "befor [0. 0. 0. 0. 0. 0. 0. 0. 0. 0.]\n",
      "after [1. 1. 1. 0. 0. 0. 1. 0. 1. 0.]\n",
      "befor [0. 0. 0. 0. 0. 0. 0. 0. 0. 0.]\n",
      "after [1. 1. 1. 0. 0. 0. 1. 0. 1. 0.]\n",
      "befor [0. 0. 0. 0. 0. 0. 0. 0. 0. 0.]\n",
      "after [1. 1. 1. 0. 0. 0. 1. 0. 1. 0.]\n",
      "befor [0. 0. 0. 0. 0. 0. 0. 0. 0. 0.]\n",
      "after [1. 1. 1. 0. 0. 0. 1. 0. 1. 0.]\n",
      "befor [0. 0. 0. 0. 0. 0. 0. 0. 0. 0.]\n",
      "after [1. 1. 1. 0. 0. 0. 1. 0. 1. 0.]\n",
      "befor [0. 0. 0. 0. 0. 0. 0. 0. 0. 0.]\n"
     ]
    }
   ],
   "source": [
    "print(X.iloc[np.flatnonzero(yhat[0] <= 0)][:4])\n",
    "print(X_new[0][:4])\n",
    "for j_clf in range(len(good_classifiers)):\n",
    "    print(\"after\", yhat_new[0][j_clf][:10])\n",
    "    print(\"befor\", yhat[j_clf][np.flatnonzero(yhat[0] <= 0)][:10])"
   ]
  },
  {
   "cell_type": "markdown",
   "metadata": {},
   "source": [
    "Not necessary: Which features have changed, examplary for clf 0"
   ]
  },
  {
   "cell_type": "code",
   "execution_count": 56,
   "metadata": {},
   "outputs": [
    {
     "name": "stdout",
     "output_type": "stream",
     "text": [
      "Married                                  0.000000\n",
      "Single                                   0.000000\n",
      "Age_lt_25                                0.000000\n",
      "Age_in_25_to_40                          0.000000\n",
      "Age_in_40_to_59                          0.000000\n",
      "Age_geq_60                               0.000000\n",
      "EducationLevel                           0.000000\n",
      "MaxBillAmountOverLast6Months             0.037815\n",
      "MaxPaymentAmountOverLast6Months          0.126050\n",
      "MonthsWithZeroBalanceOverLast6Months     0.008403\n",
      "MonthsWithLowSpendingOverLast6Months     0.084034\n",
      "MonthsWithHighSpendingOverLast6Months    0.029412\n",
      "MostRecentBillAmount                     0.197479\n",
      "MostRecentPaymentAmount                  0.016807\n",
      "TotalOverdueCounts                       0.025210\n",
      "TotalMonthsOverdue                       0.936975\n",
      "HistoryOfOverduePayments                 0.000000\n",
      "dtype: float64\n"
     ]
    }
   ],
   "source": [
    "print((X.iloc[np.flatnonzero(yhat[0] <= 0)]!=X_new[0]).mean(axis=0))"
   ]
  },
  {
   "cell_type": "code",
   "execution_count": 82,
   "metadata": {},
   "outputs": [],
   "source": [
    "# in dataframe speichern\n",
    "results = pd.DataFrame(data={'i_clf': np.arange(len(good_classifiers))})\n",
    "good_Cs = [] # Collect C values of good classifiers in list; MAYDO: Already care for this when creating classifier_Cs\n",
    "for i in np.flatnonzero(cv_scores >= np.max(cv_scores) - tolerance):\n",
    "    for key, value in list(classifier_Cs[i]): # classifier_Cs is of type dict_items -> not subscriptable\n",
    "        if key == 'C':\n",
    "            good_Cs.append(value)\n",
    "results['C_value'] = good_Cs\n",
    "results['CV_accuracy'] = np.asarray(cv_scores)[cv_scores >= np.max(cv_scores) - tolerance]\n",
    "results['flipset_robustnes'] = flip_accuracy\n"
   ]
  },
  {
   "cell_type": "markdown",
   "metadata": {},
   "source": [
    "**TODO:** labels etc. for figures. What is a good name for flip_accuracy?"
   ]
  },
  {
   "cell_type": "code",
   "execution_count": 94,
   "metadata": {},
   "outputs": [
    {
     "data": {
      "image/png": "[encoded data removed]",
      "text/plain": [
       "<Figure size 432x288 with 2 Axes>"
      ]
     },
     "metadata": {},
     "output_type": "display_data"
    }
   ],
   "source": [
    "# graphisch reprsentieren?\n",
    "import seaborn as sns\n",
    "sns.set()\n",
    "sns.heatmap(flip_accuracy)\n",
    "plt.savefig(\"heatmap_flip_accuracy.svg\")"
   ]
  },
  {
   "cell_type": "code",
   "execution_count": 93,
   "metadata": {},
   "outputs": [
    {
     "data": {
      "image/png": "[encoded data removed]",
      "text/plain": [
       "<Figure size 432x288 with 1 Axes>"
      ]
     },
     "metadata": {},
     "output_type": "display_data"
    }
   ],
   "source": [
    "import matplotlib.pyplot as plt\n",
    "x_scatter = np.repeat([np.log(x) for x in good_Cs], len(good_classifiers))\n",
    "plt.scatter(x_scatter, np.array(flip_accuracy).flatten())\n",
    "plt.savefig(\"scatter_flip_accuracy.svg\")"
   ]
  },
  {
   "cell_type": "code",
   "execution_count": 113,
   "metadata": {},
   "outputs": [
    {
     "data": {
      "image/png": "[encoded data removed]",
      "text/plain": [
       "<Figure size 432x288 with 1 Axes>"
      ]
     },
     "metadata": {},
     "output_type": "display_data"
    }
   ],
   "source": [
    "plt.hist(np.array(flip_accuracy).flatten(), bins=30, density=True, histtype='bar', facecolor = 'green', alpha = 0.9)\n",
    "plt.savefig(\"histogram_flip_accuracy.svg\")\n",
    "plt.show()"
   ]
  },
  {
   "cell_type": "markdown",
   "metadata": {},
   "source": [
    "**TODO!:** Why are flipsets not perfect, i. e. diagonal of flip_accuracy has enties < 1??!!"
   ]
  },
  {
   "cell_type": "code",
   "execution_count": 98,
   "metadata": {},
   "outputs": [
    {
     "name": "stdout",
     "output_type": "stream",
     "text": [
      "[1.0, 1.0, 1.0, 0.9934640522875817, 1.0, 1.0, 1.0, 1.0, 0.9969135802469136, 1.0, 0.9969230769230769, 0.9939024390243902, 0.9968553459119497, 0.9968944099378882, 0.9969135802469136]\n"
     ]
    }
   ],
   "source": [
    "print([flip_accuracy[i][i] for i in range(len(good_classifiers))])"
   ]
  },
  {
   "cell_type": "markdown",
   "metadata": {},
   "source": [
    "Run Recourse Audit for each classifier on Training Data (Takes some time!)"
   ]
  },
  {
   "cell_type": "code",
   "execution_count": 117,
   "metadata": {},
   "outputs": [
    {
     "data": {
      "application/vnd.jupyter.widget-view+json": {
       "model_id": "c891301536dc46b29a8bba4b2b455745",
       "version_major": 2,
       "version_minor": 0
      },
      "text/plain": [
       "HBox(children=(FloatProgress(value=0.0, max=237.0), HTML(value='')))"
      ]
     },
     "metadata": {},
     "output_type": "display_data"
    },
    {
     "name": "stdout",
     "output_type": "stream",
     "text": [
      "\n"
     ]
    },
    {
     "data": {
      "application/vnd.jupyter.widget-view+json": {
       "model_id": "03c19a5aabd5482c84bc7298309f6455",
       "version_major": 2,
       "version_minor": 0
      },
      "text/plain": [
       "HBox(children=(FloatProgress(value=0.0, max=254.0), HTML(value='')))"
      ]
     },
     "metadata": {},
     "output_type": "display_data"
    },
    {
     "name": "stdout",
     "output_type": "stream",
     "text": [
      "\n"
     ]
    },
    {
     "data": {
      "application/vnd.jupyter.widget-view+json": {
       "model_id": "df26165f601d412c9b9a9b0dbb44b1b8",
       "version_major": 2,
       "version_minor": 0
      },
      "text/plain": [
       "HBox(children=(FloatProgress(value=0.0, max=299.0), HTML(value='')))"
      ]
     },
     "metadata": {},
     "output_type": "display_data"
    },
    {
     "name": "stdout",
     "output_type": "stream",
     "text": [
      "\n"
     ]
    },
    {
     "data": {
      "application/vnd.jupyter.widget-view+json": {
       "model_id": "7e29442c5fa645059b3eec54651948be",
       "version_major": 2,
       "version_minor": 0
      },
      "text/plain": [
       "HBox(children=(FloatProgress(value=0.0, max=305.0), HTML(value='')))"
      ]
     },
     "metadata": {},
     "output_type": "display_data"
    },
    {
     "name": "stdout",
     "output_type": "stream",
     "text": [
      "\n"
     ]
    },
    {
     "data": {
      "application/vnd.jupyter.widget-view+json": {
       "model_id": "0ced512a31c6478492c1e2d0a54f4e17",
       "version_major": 2,
       "version_minor": 0
      },
      "text/plain": [
       "HBox(children=(FloatProgress(value=0.0, max=312.0), HTML(value='')))"
      ]
     },
     "metadata": {},
     "output_type": "display_data"
    },
    {
     "name": "stdout",
     "output_type": "stream",
     "text": [
      "\n"
     ]
    },
    {
     "data": {
      "application/vnd.jupyter.widget-view+json": {
       "model_id": "48f1988d877744d29561f6157132b8e8",
       "version_major": 2,
       "version_minor": 0
      },
      "text/plain": [
       "HBox(children=(FloatProgress(value=0.0, max=321.0), HTML(value='')))"
      ]
     },
     "metadata": {},
     "output_type": "display_data"
    },
    {
     "name": "stdout",
     "output_type": "stream",
     "text": [
      "\n"
     ]
    },
    {
     "data": {
      "application/vnd.jupyter.widget-view+json": {
       "model_id": "a8a0317c05f646268d3802f0fc9eef83",
       "version_major": 2,
       "version_minor": 0
      },
      "text/plain": [
       "HBox(children=(FloatProgress(value=0.0, max=320.0), HTML(value='')))"
      ]
     },
     "metadata": {},
     "output_type": "display_data"
    },
    {
     "name": "stdout",
     "output_type": "stream",
     "text": [
      "\n"
     ]
    },
    {
     "data": {
      "application/vnd.jupyter.widget-view+json": {
       "model_id": "8bff2a05c8314c25ae8a93c9af76aa9d",
       "version_major": 2,
       "version_minor": 0
      },
      "text/plain": [
       "HBox(children=(FloatProgress(value=0.0, max=316.0), HTML(value='')))"
      ]
     },
     "metadata": {},
     "output_type": "display_data"
    },
    {
     "name": "stdout",
     "output_type": "stream",
     "text": [
      "\n"
     ]
    },
    {
     "data": {
      "application/vnd.jupyter.widget-view+json": {
       "model_id": "eae79dfa192e46e38825ea4c830f58e6",
       "version_major": 2,
       "version_minor": 0
      },
      "text/plain": [
       "HBox(children=(FloatProgress(value=0.0, max=323.0), HTML(value='')))"
      ]
     },
     "metadata": {},
     "output_type": "display_data"
    },
    {
     "name": "stdout",
     "output_type": "stream",
     "text": [
      "\n"
     ]
    },
    {
     "data": {
      "application/vnd.jupyter.widget-view+json": {
       "model_id": "09a7ffb85ade4db6b0607cf9f1d390cb",
       "version_major": 2,
       "version_minor": 0
      },
      "text/plain": [
       "HBox(children=(FloatProgress(value=0.0, max=328.0), HTML(value='')))"
      ]
     },
     "metadata": {},
     "output_type": "display_data"
    },
    {
     "name": "stdout",
     "output_type": "stream",
     "text": [
      "\n"
     ]
    },
    {
     "data": {
      "application/vnd.jupyter.widget-view+json": {
       "model_id": "7a47d6249cde443f9b9dce6236cbe39a",
       "version_major": 2,
       "version_minor": 0
      },
      "text/plain": [
       "HBox(children=(FloatProgress(value=0.0, max=324.0), HTML(value='')))"
      ]
     },
     "metadata": {},
     "output_type": "display_data"
    },
    {
     "name": "stdout",
     "output_type": "stream",
     "text": [
      "\n"
     ]
    },
    {
     "data": {
      "application/vnd.jupyter.widget-view+json": {
       "model_id": "2300d03a08824b519fa716c516792968",
       "version_major": 2,
       "version_minor": 0
      },
      "text/plain": [
       "HBox(children=(FloatProgress(value=0.0, max=327.0), HTML(value='')))"
      ]
     },
     "metadata": {},
     "output_type": "display_data"
    },
    {
     "name": "stdout",
     "output_type": "stream",
     "text": [
      "\n"
     ]
    },
    {
     "data": {
      "application/vnd.jupyter.widget-view+json": {
       "model_id": "e14385fe1aa3472fb6a7b6cb9fa1daae",
       "version_major": 2,
       "version_minor": 0
      },
      "text/plain": [
       "HBox(children=(FloatProgress(value=0.0, max=317.0), HTML(value='')))"
      ]
     },
     "metadata": {},
     "output_type": "display_data"
    },
    {
     "name": "stdout",
     "output_type": "stream",
     "text": [
      "\n"
     ]
    },
    {
     "data": {
      "application/vnd.jupyter.widget-view+json": {
       "model_id": "211ef3e0cd674715986d5360b76c3d20",
       "version_major": 2,
       "version_minor": 0
      },
      "text/plain": [
       "HBox(children=(FloatProgress(value=0.0, max=321.0), HTML(value='')))"
      ]
     },
     "metadata": {},
     "output_type": "display_data"
    },
    {
     "name": "stdout",
     "output_type": "stream",
     "text": [
      "\n"
     ]
    },
    {
     "data": {
      "application/vnd.jupyter.widget-view+json": {
       "model_id": "f0ba36c7e15f406b9b26017dc399f048",
       "version_major": 2,
       "version_minor": 0
      },
      "text/plain": [
       "HBox(children=(FloatProgress(value=0.0, max=323.0), HTML(value='')))"
      ]
     },
     "metadata": {},
     "output_type": "display_data"
    },
    {
     "name": "stdout",
     "output_type": "stream",
     "text": [
      "\n"
     ]
    }
   ],
   "source": [
    "recourse_feasibilities = []\n",
    "recourse_costs = []\n",
    "for j, clf in enumerate(good_classifiers):\n",
    "    auditor = RecourseAuditor(action_sets[j], coefficients = clf.coef_[0], intercept = clf.intercept_[0])\n",
    "    audit_df = auditor.audit(X)  ## matrix of features over which we will perform the audit.\n",
    "    recourse_feasibilities.append(audit_df['feasible'].mean())\n",
    "    recourse_costs.append(audit_df['cost'].mean())\n",
    "results['feasibility'] = recourse_feasibilities\n",
    "results['cost'] = recourse_costs"
   ]
  },
  {
   "cell_type": "code",
   "execution_count": null,
   "metadata": {},
   "outputs": [],
   "source": [
    "results"
   ]
  }
 ],
 "metadata": {
  "kernelspec": {
   "display_name": "Python 3",
   "language": "python",
   "name": "python3"
  },
  "language_info": {
   "codemirror_mode": {
    "name": "ipython",
    "version": 3
   },
   "file_extension": ".py",
   "mimetype": "text/x-python",
   "name": "python",
   "nbconvert_exporter": "python",
   "pygments_lexer": "ipython3",
   "version": "3.6.10"
  }
 },
 "nbformat": 4,
 "nbformat_minor": 4
}
